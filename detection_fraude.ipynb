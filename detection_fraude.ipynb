{
 "cells": [
  {
   "cell_type": "code",
   "execution_count": 1,
   "metadata": {},
   "outputs": [],
   "source": [
    "author = \"Remi Decoster\"\n",
    "collaborators = \"Antoine Baudere\""
   ]
  },
  {
   "cell_type": "code",
   "execution_count": 2,
   "metadata": {},
   "outputs": [],
   "source": [
    "import pandas as pd\n",
    "import numpy as np\n",
    "import matplotlib.pyplot as plt"
   ]
  },
  {
   "cell_type": "code",
   "execution_count": 4,
   "metadata": {
    "scrolled": true
   },
   "outputs": [
    {
     "data": {
      "text/html": [
       "<div>\n",
       "<style scoped>\n",
       "    .dataframe tbody tr th:only-of-type {\n",
       "        vertical-align: middle;\n",
       "    }\n",
       "\n",
       "    .dataframe tbody tr th {\n",
       "        vertical-align: top;\n",
       "    }\n",
       "\n",
       "    .dataframe thead th {\n",
       "        text-align: right;\n",
       "    }\n",
       "</style>\n",
       "<table border=\"1\" class=\"dataframe\">\n",
       "  <thead>\n",
       "    <tr style=\"text-align: right;\">\n",
       "      <th></th>\n",
       "      <th>ZIBZIN</th>\n",
       "      <th>IDAvisAutorisAtionCheque</th>\n",
       "      <th>MontAnt</th>\n",
       "      <th>CodeDecision</th>\n",
       "      <th>VerifiAnceCPT1</th>\n",
       "      <th>VerifiAnceCPT2</th>\n",
       "      <th>VerifiAnceCPT3</th>\n",
       "      <th>D2CB</th>\n",
       "      <th>ScoringFP1</th>\n",
       "      <th>ScoringFP2</th>\n",
       "      <th>...</th>\n",
       "      <th>TAuxImpNB_CPM</th>\n",
       "      <th>EcArtNumCheq</th>\n",
       "      <th>NbrMAgAsin3J</th>\n",
       "      <th>DiffDAteTr1</th>\n",
       "      <th>DiffDAteTr2</th>\n",
       "      <th>DiffDAteTr3</th>\n",
       "      <th>CA3TRetMtt</th>\n",
       "      <th>CA3TR</th>\n",
       "      <th>Heure</th>\n",
       "      <th>FlAgImpAye</th>\n",
       "    </tr>\n",
       "    <tr>\n",
       "      <th>DAteTrAnsAction</th>\n",
       "      <th></th>\n",
       "      <th></th>\n",
       "      <th></th>\n",
       "      <th></th>\n",
       "      <th></th>\n",
       "      <th></th>\n",
       "      <th></th>\n",
       "      <th></th>\n",
       "      <th></th>\n",
       "      <th></th>\n",
       "      <th></th>\n",
       "      <th></th>\n",
       "      <th></th>\n",
       "      <th></th>\n",
       "      <th></th>\n",
       "      <th></th>\n",
       "      <th></th>\n",
       "      <th></th>\n",
       "      <th></th>\n",
       "      <th></th>\n",
       "      <th></th>\n",
       "    </tr>\n",
       "  </thead>\n",
       "  <tbody>\n",
       "    <tr>\n",
       "      <th>2016-03-21 07:47:38</th>\n",
       "      <td>A034010041908012010710730</td>\n",
       "      <td>71051532</td>\n",
       "      <td>40.17</td>\n",
       "      <td>0</td>\n",
       "      <td>1</td>\n",
       "      <td>1</td>\n",
       "      <td>1</td>\n",
       "      <td>535</td>\n",
       "      <td>0.0</td>\n",
       "      <td>0.0</td>\n",
       "      <td>...</td>\n",
       "      <td>21.834061</td>\n",
       "      <td>0</td>\n",
       "      <td>1</td>\n",
       "      <td>4.0</td>\n",
       "      <td>4.0</td>\n",
       "      <td>4.0</td>\n",
       "      <td>40.17</td>\n",
       "      <td>0.0</td>\n",
       "      <td>28058</td>\n",
       "      <td>0</td>\n",
       "    </tr>\n",
       "    <tr>\n",
       "      <th>2016-03-21 08:04:57</th>\n",
       "      <td>A035010041908006493331734</td>\n",
       "      <td>71051533</td>\n",
       "      <td>20.00</td>\n",
       "      <td>0</td>\n",
       "      <td>0</td>\n",
       "      <td>0</td>\n",
       "      <td>0</td>\n",
       "      <td>358</td>\n",
       "      <td>0.0</td>\n",
       "      <td>0.0</td>\n",
       "      <td>...</td>\n",
       "      <td>12.586532</td>\n",
       "      <td>0</td>\n",
       "      <td>1</td>\n",
       "      <td>4.0</td>\n",
       "      <td>4.0</td>\n",
       "      <td>4.0</td>\n",
       "      <td>20.00</td>\n",
       "      <td>0.0</td>\n",
       "      <td>29097</td>\n",
       "      <td>0</td>\n",
       "    </tr>\n",
       "    <tr>\n",
       "      <th>2016-03-21 08:06:45</th>\n",
       "      <td>A013010003908005150136747</td>\n",
       "      <td>71051534</td>\n",
       "      <td>35.00</td>\n",
       "      <td>0</td>\n",
       "      <td>0</td>\n",
       "      <td>0</td>\n",
       "      <td>0</td>\n",
       "      <td>199</td>\n",
       "      <td>0.0</td>\n",
       "      <td>0.0</td>\n",
       "      <td>...</td>\n",
       "      <td>39.274924</td>\n",
       "      <td>0</td>\n",
       "      <td>1</td>\n",
       "      <td>4.0</td>\n",
       "      <td>4.0</td>\n",
       "      <td>4.0</td>\n",
       "      <td>35.00</td>\n",
       "      <td>0.0</td>\n",
       "      <td>29205</td>\n",
       "      <td>0</td>\n",
       "    </tr>\n",
       "    <tr>\n",
       "      <th>2016-03-21 08:11:38</th>\n",
       "      <td>A013010041908025639221029</td>\n",
       "      <td>71051536</td>\n",
       "      <td>20.00</td>\n",
       "      <td>0</td>\n",
       "      <td>0</td>\n",
       "      <td>0</td>\n",
       "      <td>0</td>\n",
       "      <td>38</td>\n",
       "      <td>0.0</td>\n",
       "      <td>0.0</td>\n",
       "      <td>...</td>\n",
       "      <td>39.274924</td>\n",
       "      <td>0</td>\n",
       "      <td>1</td>\n",
       "      <td>4.0</td>\n",
       "      <td>4.0</td>\n",
       "      <td>4.0</td>\n",
       "      <td>20.00</td>\n",
       "      <td>0.0</td>\n",
       "      <td>29498</td>\n",
       "      <td>0</td>\n",
       "    </tr>\n",
       "    <tr>\n",
       "      <th>2016-03-21 08:17:11</th>\n",
       "      <td>A013010003908005556100283</td>\n",
       "      <td>71051538</td>\n",
       "      <td>20.00</td>\n",
       "      <td>0</td>\n",
       "      <td>0</td>\n",
       "      <td>0</td>\n",
       "      <td>0</td>\n",
       "      <td>26</td>\n",
       "      <td>0.0</td>\n",
       "      <td>0.0</td>\n",
       "      <td>...</td>\n",
       "      <td>39.274924</td>\n",
       "      <td>0</td>\n",
       "      <td>1</td>\n",
       "      <td>4.0</td>\n",
       "      <td>4.0</td>\n",
       "      <td>4.0</td>\n",
       "      <td>20.00</td>\n",
       "      <td>0.0</td>\n",
       "      <td>29831</td>\n",
       "      <td>0</td>\n",
       "    </tr>\n",
       "  </tbody>\n",
       "</table>\n",
       "<p>5 rows × 22 columns</p>\n",
       "</div>"
      ],
      "text/plain": [
       "                                        ZIBZIN  IDAvisAutorisAtionCheque  \\\n",
       "DAteTrAnsAction                                                            \n",
       "2016-03-21 07:47:38  A034010041908012010710730                  71051532   \n",
       "2016-03-21 08:04:57  A035010041908006493331734                  71051533   \n",
       "2016-03-21 08:06:45  A013010003908005150136747                  71051534   \n",
       "2016-03-21 08:11:38  A013010041908025639221029                  71051536   \n",
       "2016-03-21 08:17:11  A013010003908005556100283                  71051538   \n",
       "\n",
       "                     MontAnt  CodeDecision  VerifiAnceCPT1  VerifiAnceCPT2  \\\n",
       "DAteTrAnsAction                                                              \n",
       "2016-03-21 07:47:38    40.17             0               1               1   \n",
       "2016-03-21 08:04:57    20.00             0               0               0   \n",
       "2016-03-21 08:06:45    35.00             0               0               0   \n",
       "2016-03-21 08:11:38    20.00             0               0               0   \n",
       "2016-03-21 08:17:11    20.00             0               0               0   \n",
       "\n",
       "                     VerifiAnceCPT3  D2CB  ScoringFP1  ScoringFP2  ...  \\\n",
       "DAteTrAnsAction                                                    ...   \n",
       "2016-03-21 07:47:38               1   535         0.0         0.0  ...   \n",
       "2016-03-21 08:04:57               0   358         0.0         0.0  ...   \n",
       "2016-03-21 08:06:45               0   199         0.0         0.0  ...   \n",
       "2016-03-21 08:11:38               0    38         0.0         0.0  ...   \n",
       "2016-03-21 08:17:11               0    26         0.0         0.0  ...   \n",
       "\n",
       "                     TAuxImpNB_CPM  EcArtNumCheq  NbrMAgAsin3J  DiffDAteTr1  \\\n",
       "DAteTrAnsAction                                                               \n",
       "2016-03-21 07:47:38      21.834061             0             1          4.0   \n",
       "2016-03-21 08:04:57      12.586532             0             1          4.0   \n",
       "2016-03-21 08:06:45      39.274924             0             1          4.0   \n",
       "2016-03-21 08:11:38      39.274924             0             1          4.0   \n",
       "2016-03-21 08:17:11      39.274924             0             1          4.0   \n",
       "\n",
       "                     DiffDAteTr2  DiffDAteTr3  CA3TRetMtt  CA3TR  Heure  \\\n",
       "DAteTrAnsAction                                                           \n",
       "2016-03-21 07:47:38          4.0          4.0       40.17    0.0  28058   \n",
       "2016-03-21 08:04:57          4.0          4.0       20.00    0.0  29097   \n",
       "2016-03-21 08:06:45          4.0          4.0       35.00    0.0  29205   \n",
       "2016-03-21 08:11:38          4.0          4.0       20.00    0.0  29498   \n",
       "2016-03-21 08:17:11          4.0          4.0       20.00    0.0  29831   \n",
       "\n",
       "                     FlAgImpAye  \n",
       "DAteTrAnsAction                  \n",
       "2016-03-21 07:47:38           0  \n",
       "2016-03-21 08:04:57           0  \n",
       "2016-03-21 08:06:45           0  \n",
       "2016-03-21 08:11:38           0  \n",
       "2016-03-21 08:17:11           0  \n",
       "\n",
       "[5 rows x 22 columns]"
      ]
     },
     "execution_count": 4,
     "metadata": {},
     "output_type": "execute_result"
    }
   ],
   "source": [
    "df = pd.read_csv(\"./dataproject.csv\", sep = ';', encoding='utf-8', decimal=',', index_col= 'DAteTrAnsAction', parse_dates= True)\n",
    "df.head()#dataproject.csv"
   ]
  },
  {
   "cell_type": "code",
   "execution_count": 5,
   "metadata": {},
   "outputs": [],
   "source": [
    "data = df.iloc[:, 2:20] #all except heure, ZIB & ID"
   ]
  },
  {
   "cell_type": "code",
   "execution_count": 6,
   "metadata": {},
   "outputs": [
    {
     "data": {
      "text/html": [
       "<div>\n",
       "<style scoped>\n",
       "    .dataframe tbody tr th:only-of-type {\n",
       "        vertical-align: middle;\n",
       "    }\n",
       "\n",
       "    .dataframe tbody tr th {\n",
       "        vertical-align: top;\n",
       "    }\n",
       "\n",
       "    .dataframe thead th {\n",
       "        text-align: right;\n",
       "    }\n",
       "</style>\n",
       "<table border=\"1\" class=\"dataframe\">\n",
       "  <thead>\n",
       "    <tr style=\"text-align: right;\">\n",
       "      <th></th>\n",
       "      <th>MontAnt</th>\n",
       "      <th>CodeDecision</th>\n",
       "      <th>VerifiAnceCPT1</th>\n",
       "      <th>VerifiAnceCPT2</th>\n",
       "      <th>VerifiAnceCPT3</th>\n",
       "      <th>D2CB</th>\n",
       "      <th>ScoringFP1</th>\n",
       "      <th>ScoringFP2</th>\n",
       "      <th>ScoringFP3</th>\n",
       "      <th>TAuxImpNb_RB</th>\n",
       "      <th>TAuxImpNB_CPM</th>\n",
       "      <th>EcArtNumCheq</th>\n",
       "      <th>NbrMAgAsin3J</th>\n",
       "      <th>DiffDAteTr1</th>\n",
       "      <th>DiffDAteTr2</th>\n",
       "      <th>DiffDAteTr3</th>\n",
       "      <th>CA3TRetMtt</th>\n",
       "      <th>CA3TR</th>\n",
       "    </tr>\n",
       "    <tr>\n",
       "      <th>DAteTrAnsAction</th>\n",
       "      <th></th>\n",
       "      <th></th>\n",
       "      <th></th>\n",
       "      <th></th>\n",
       "      <th></th>\n",
       "      <th></th>\n",
       "      <th></th>\n",
       "      <th></th>\n",
       "      <th></th>\n",
       "      <th></th>\n",
       "      <th></th>\n",
       "      <th></th>\n",
       "      <th></th>\n",
       "      <th></th>\n",
       "      <th></th>\n",
       "      <th></th>\n",
       "      <th></th>\n",
       "      <th></th>\n",
       "    </tr>\n",
       "  </thead>\n",
       "  <tbody>\n",
       "    <tr>\n",
       "      <th>2016-03-21 07:47:38</th>\n",
       "      <td>40.17</td>\n",
       "      <td>0</td>\n",
       "      <td>1</td>\n",
       "      <td>1</td>\n",
       "      <td>1</td>\n",
       "      <td>535</td>\n",
       "      <td>0.0</td>\n",
       "      <td>0.0</td>\n",
       "      <td>0.0</td>\n",
       "      <td>53.937433</td>\n",
       "      <td>21.834061</td>\n",
       "      <td>0</td>\n",
       "      <td>1</td>\n",
       "      <td>4.0</td>\n",
       "      <td>4.0</td>\n",
       "      <td>4.0</td>\n",
       "      <td>40.17</td>\n",
       "      <td>0.0</td>\n",
       "    </tr>\n",
       "    <tr>\n",
       "      <th>2016-03-21 08:04:57</th>\n",
       "      <td>20.00</td>\n",
       "      <td>0</td>\n",
       "      <td>0</td>\n",
       "      <td>0</td>\n",
       "      <td>0</td>\n",
       "      <td>358</td>\n",
       "      <td>0.0</td>\n",
       "      <td>0.0</td>\n",
       "      <td>0.0</td>\n",
       "      <td>44.742729</td>\n",
       "      <td>12.586532</td>\n",
       "      <td>0</td>\n",
       "      <td>1</td>\n",
       "      <td>4.0</td>\n",
       "      <td>4.0</td>\n",
       "      <td>4.0</td>\n",
       "      <td>20.00</td>\n",
       "      <td>0.0</td>\n",
       "    </tr>\n",
       "    <tr>\n",
       "      <th>2016-03-21 08:06:45</th>\n",
       "      <td>35.00</td>\n",
       "      <td>0</td>\n",
       "      <td>0</td>\n",
       "      <td>0</td>\n",
       "      <td>0</td>\n",
       "      <td>199</td>\n",
       "      <td>0.0</td>\n",
       "      <td>0.0</td>\n",
       "      <td>0.0</td>\n",
       "      <td>17.094017</td>\n",
       "      <td>39.274924</td>\n",
       "      <td>0</td>\n",
       "      <td>1</td>\n",
       "      <td>4.0</td>\n",
       "      <td>4.0</td>\n",
       "      <td>4.0</td>\n",
       "      <td>35.00</td>\n",
       "      <td>0.0</td>\n",
       "    </tr>\n",
       "    <tr>\n",
       "      <th>2016-03-21 08:11:38</th>\n",
       "      <td>20.00</td>\n",
       "      <td>0</td>\n",
       "      <td>0</td>\n",
       "      <td>0</td>\n",
       "      <td>0</td>\n",
       "      <td>38</td>\n",
       "      <td>0.0</td>\n",
       "      <td>0.0</td>\n",
       "      <td>0.0</td>\n",
       "      <td>41.878552</td>\n",
       "      <td>39.274924</td>\n",
       "      <td>0</td>\n",
       "      <td>1</td>\n",
       "      <td>4.0</td>\n",
       "      <td>4.0</td>\n",
       "      <td>4.0</td>\n",
       "      <td>20.00</td>\n",
       "      <td>0.0</td>\n",
       "    </tr>\n",
       "    <tr>\n",
       "      <th>2016-03-21 08:17:11</th>\n",
       "      <td>20.00</td>\n",
       "      <td>0</td>\n",
       "      <td>0</td>\n",
       "      <td>0</td>\n",
       "      <td>0</td>\n",
       "      <td>26</td>\n",
       "      <td>0.0</td>\n",
       "      <td>0.0</td>\n",
       "      <td>0.0</td>\n",
       "      <td>17.094017</td>\n",
       "      <td>39.274924</td>\n",
       "      <td>0</td>\n",
       "      <td>1</td>\n",
       "      <td>4.0</td>\n",
       "      <td>4.0</td>\n",
       "      <td>4.0</td>\n",
       "      <td>20.00</td>\n",
       "      <td>0.0</td>\n",
       "    </tr>\n",
       "  </tbody>\n",
       "</table>\n",
       "</div>"
      ],
      "text/plain": [
       "                     MontAnt  CodeDecision  VerifiAnceCPT1  VerifiAnceCPT2  \\\n",
       "DAteTrAnsAction                                                              \n",
       "2016-03-21 07:47:38    40.17             0               1               1   \n",
       "2016-03-21 08:04:57    20.00             0               0               0   \n",
       "2016-03-21 08:06:45    35.00             0               0               0   \n",
       "2016-03-21 08:11:38    20.00             0               0               0   \n",
       "2016-03-21 08:17:11    20.00             0               0               0   \n",
       "\n",
       "                     VerifiAnceCPT3  D2CB  ScoringFP1  ScoringFP2  ScoringFP3  \\\n",
       "DAteTrAnsAction                                                                 \n",
       "2016-03-21 07:47:38               1   535         0.0         0.0         0.0   \n",
       "2016-03-21 08:04:57               0   358         0.0         0.0         0.0   \n",
       "2016-03-21 08:06:45               0   199         0.0         0.0         0.0   \n",
       "2016-03-21 08:11:38               0    38         0.0         0.0         0.0   \n",
       "2016-03-21 08:17:11               0    26         0.0         0.0         0.0   \n",
       "\n",
       "                     TAuxImpNb_RB  TAuxImpNB_CPM  EcArtNumCheq  NbrMAgAsin3J  \\\n",
       "DAteTrAnsAction                                                                \n",
       "2016-03-21 07:47:38     53.937433      21.834061             0             1   \n",
       "2016-03-21 08:04:57     44.742729      12.586532             0             1   \n",
       "2016-03-21 08:06:45     17.094017      39.274924             0             1   \n",
       "2016-03-21 08:11:38     41.878552      39.274924             0             1   \n",
       "2016-03-21 08:17:11     17.094017      39.274924             0             1   \n",
       "\n",
       "                     DiffDAteTr1  DiffDAteTr2  DiffDAteTr3  CA3TRetMtt  CA3TR  \n",
       "DAteTrAnsAction                                                                \n",
       "2016-03-21 07:47:38          4.0          4.0          4.0       40.17    0.0  \n",
       "2016-03-21 08:04:57          4.0          4.0          4.0       20.00    0.0  \n",
       "2016-03-21 08:06:45          4.0          4.0          4.0       35.00    0.0  \n",
       "2016-03-21 08:11:38          4.0          4.0          4.0       20.00    0.0  \n",
       "2016-03-21 08:17:11          4.0          4.0          4.0       20.00    0.0  "
      ]
     },
     "execution_count": 6,
     "metadata": {},
     "output_type": "execute_result"
    }
   ],
   "source": [
    "len(data.columns)\n",
    "X = data #feature, we take them all for a 1st analysis. \n",
    "y = df.iloc[:, 21] #target\n",
    "X.head()"
   ]
  },
  {
   "cell_type": "code",
   "execution_count": 7,
   "metadata": {},
   "outputs": [],
   "source": [
    "from sklearn.metrics import confusion_matrix, accuracy_score, f1_score, precision_score, recall_score, roc_auc_score ,classification_report\n",
    "from sklearn.model_selection import GridSearchCV\n",
    "from sklearn.metrics import make_scorer\n",
    "from sklearn.linear_model import SGDClassifier\n",
    "from sklearn.tree import DecisionTreeClassifier\n",
    "from sklearn.preprocessing import StandardScaler\n",
    "#from sklearn.model_selection import train_test_split\n",
    "from sklearn.model_selection import learning_curve\n",
    "from sklearn.ensemble import GradientBoostingClassifier\n",
    "from sklearn.preprocessing import PolynomialFeatures, StandardScaler\n"
   ]
  },
  {
   "cell_type": "code",
   "execution_count": 14,
   "metadata": {},
   "outputs": [],
   "source": [
    "### Statistiques élémentaires du jeu de données\n",
    "\n",
    "data1 = df[1350383:1967226] # Selection des mois juillet aout sept\n",
    "col = list(data1.columns)\n",
    "del col[20]\n",
    "del col[0]"
   ]
  },
  {
   "cell_type": "code",
   "execution_count": 15,
   "metadata": {},
   "outputs": [
    {
     "name": "stdout",
     "output_type": "stream",
     "text": [
      "col_0       Nombre\n",
      "FlAgImpAye        \n",
      "0           614958\n",
      "1             1885\n"
     ]
    },
    {
     "data": {
      "text/plain": [
       "([<matplotlib.patches.Wedge at 0x20f36091fd0>,\n",
       "  <matplotlib.patches.Wedge at 0x20f3609e4f0>],\n",
       " [Text(-1.0999573178016062, 0.00969015039596308, 'Acceptation'),\n",
       "  Text(1.0999573180355082, -0.009690123845029786, 'Refus')])"
      ]
     },
     "execution_count": 15,
     "metadata": {},
     "output_type": "execute_result"
    },
    {
     "data": {
      "image/png": "[encoded data removed]",
      "text/plain": [
       "<Figure size 432x288 with 1 Axes>"
      ]
     },
     "metadata": {},
     "output_type": "display_data"
    }
   ],
   "source": [
    "# Informations \"FlAgImpAye\"\n",
    "print(pd.crosstab(data1.FlAgImpAye, \"Nombre\"))\n",
    "\n",
    "plt.pie([2225112,6257], labels = ['Acceptation', 'Refus'], normalize = True)\n",
    "#tips.plot.scatter(\"total_bill\", \"tip\")"
   ]
  },
  {
   "cell_type": "code",
   "execution_count": 16,
   "metadata": {},
   "outputs": [
    {
     "name": "stdout",
     "output_type": "stream",
     "text": [
      "col_0         Nombre\n",
      "CodeDecision        \n",
      "0             612864\n",
      "2               3346\n",
      "3                633\n"
     ]
    },
    {
     "data": {
      "text/plain": [
       "<AxesSubplot:xlabel='CodeDecision'>"
      ]
     },
     "execution_count": 16,
     "metadata": {},
     "output_type": "execute_result"
    },
    {
     "data": {
      "image/png": "[encoded data removed]",
      "text/plain": [
       "<Figure size 432x288 with 1 Axes>"
      ]
     },
     "metadata": {
      "needs_background": "light"
     },
     "output_type": "display_data"
    }
   ],
   "source": [
    "# Croisement \"CodeDecision\" et \"FlAgImpAye\"\n",
    "print(pd.crosstab(data1.CodeDecision, \"Nombre\")) # Majorité de code 0 \n",
    "t=pd.crosstab(data1.CodeDecision, data1.FlAgImpAye, normalize = \"index\") \n",
    "t.plot.bar()"
   ]
  },
  {
   "cell_type": "code",
   "execution_count": 17,
   "metadata": {},
   "outputs": [
    {
     "name": "stdout",
     "output_type": "stream",
     "text": [
      "IDAvisAutorisAtionCheque\n",
      "[[1.         0.00486612]\n",
      " [0.00486612 1.        ]]\n",
      "MontAnt\n",
      "[[1.         0.02448052]\n",
      " [0.02448052 1.        ]]\n",
      "CodeDecision\n",
      "[[1.        0.0145321]\n",
      " [0.0145321 1.       ]]\n",
      "VerifiAnceCPT1\n",
      "[[1.       0.018717]\n",
      " [0.018717 1.      ]]\n",
      "VerifiAnceCPT2\n",
      "[[1.         0.02850815]\n",
      " [0.02850815 1.        ]]\n",
      "VerifiAnceCPT3\n",
      "[[1.         0.03900128]\n",
      " [0.03900128 1.        ]]\n",
      "D2CB\n",
      "[[ 1.         -0.03104191]\n",
      " [-0.03104191  1.        ]]\n",
      "ScoringFP1\n",
      "[[1.         0.01735367]\n",
      " [0.01735367 1.        ]]\n",
      "ScoringFP2\n",
      "[[ 1.        -0.0423615]\n",
      " [-0.0423615  1.       ]]\n",
      "ScoringFP3\n",
      "[[1.         0.03350663]\n",
      " [0.03350663 1.        ]]\n",
      "TAuxImpNb_RB\n",
      "[[1.         0.00713223]\n",
      " [0.00713223 1.        ]]\n",
      "TAuxImpNB_CPM\n",
      "[[1.         0.01190483]\n",
      " [0.01190483 1.        ]]\n",
      "EcArtNumCheq\n",
      "[[ 1.00000000e+00 -1.02582874e-04]\n",
      " [-1.02582874e-04  1.00000000e+00]]\n",
      "NbrMAgAsin3J\n",
      "[[1.         0.03032499]\n",
      " [0.03032499 1.        ]]\n",
      "DiffDAteTr1\n",
      "[[ 1.         -0.02650506]\n",
      " [-0.02650506  1.        ]]\n",
      "DiffDAteTr2\n",
      "[[ 1.         -0.01335323]\n",
      " [-0.01335323  1.        ]]\n",
      "DiffDAteTr3\n",
      "[[1.         0.00179192]\n",
      " [0.00179192 1.        ]]\n",
      "CA3TRetMtt\n",
      "[[1.         0.03610349]\n",
      " [0.03610349 1.        ]]\n",
      "CA3TR\n",
      "[[1.         0.03514813]\n",
      " [0.03514813 1.        ]]\n",
      "FlAgImpAye\n",
      "[[1. 1.]\n",
      " [1. 1.]]\n"
     ]
    }
   ],
   "source": [
    "# Coefficient de correlation de la variable cible par rapport a toutes les autres variables\n",
    "for i in col:\n",
    "    \n",
    "    r = np.corrcoef(data1[\"FlAgImpAye\"], data1[i])\n",
    "    print(i)\n",
    "    print(r)"
   ]
  },
  {
   "cell_type": "code",
   "execution_count": 18,
   "metadata": {},
   "outputs": [
    {
     "name": "stdout",
     "output_type": "stream",
     "text": [
      "PCA(svd_solver='full')\n",
      "[3.73277852e+00 3.29625469e+00 1.71646636e+00 1.38151340e+00\n",
      " 1.18603493e+00 1.05340758e+00 1.00020338e+00 9.91998474e-01\n",
      " 9.86348710e-01 9.68298022e-01 9.02831457e-01 8.70636453e-01\n",
      " 7.67953689e-01 6.56028346e-01 4.99472210e-01 4.17578831e-01\n",
      " 2.94583625e-01 1.31246616e-01 1.04847842e-01 4.15168638e-02\n",
      " 4.02339014e-31]\n",
      "[1.77751358e-01 1.56964509e-01 8.17364936e-02 6.57863522e-02\n",
      " 5.64778540e-02 5.01622658e-02 4.76287325e-02 4.72380226e-02\n",
      " 4.69689862e-02 4.61094296e-02 4.29919741e-02 4.14588787e-02\n",
      " 3.65692233e-02 3.12394451e-02 2.37843910e-02 1.98847062e-02\n",
      " 1.40277917e-02 6.24983885e-03 4.99275440e-03 1.97699352e-03\n",
      " 1.91590007e-32]\n"
     ]
    },
    {
     "data": {
      "image/png": "[encoded data removed]",
      "text/plain": [
       "<Figure size 432x288 with 1 Axes>"
      ]
     },
     "metadata": {
      "needs_background": "light"
     },
     "output_type": "display_data"
    },
    {
     "data": {
      "image/png": "[encoded data removed]",
      "text/plain": [
       "<Figure size 432x288 with 1 Axes>"
      ]
     },
     "metadata": {
      "needs_background": "light"
     },
     "output_type": "display_data"
    },
    {
     "data": {
      "image/png": "[encoded data removed]",
      "text/plain": [
       "<Figure size 576x576 with 1 Axes>"
      ]
     },
     "metadata": {
      "needs_background": "light"
     },
     "output_type": "display_data"
    }
   ],
   "source": [
    "### ACP et analyse des résultats\n",
    "\n",
    "X=data1\n",
    "\n",
    "del X['ZIBZIN']\n",
    "\n",
    "\n",
    "#nombre d'observations\n",
    "n = X.shape[0]\n",
    "\n",
    "#nombre de variables\n",
    "p = X.shape[1]\n",
    "\n",
    "\n",
    "#scikit-learn\n",
    "import sklearn\n",
    "\n",
    "\n",
    "#classe pour standardisation\n",
    "from sklearn.preprocessing import StandardScaler\n",
    "\n",
    "#instanciation\n",
    "sc = StandardScaler()\n",
    "\n",
    "#transformation\n",
    "Z = sc.fit_transform(X)\n",
    "\n",
    "\n",
    "#classe pour l'ACP\n",
    "from sklearn.decomposition import PCA\n",
    "\n",
    "#instanciation\n",
    "acp = PCA(svd_solver='full')\n",
    "\n",
    "#affichage des paramètres\n",
    "print(acp)\n",
    "\n",
    "#calculs\n",
    "coord = acp.fit_transform(Z)\n",
    "\n",
    "#nombre de composantes calculées\n",
    "#print(acp.n_components_)\n",
    "\n",
    "#variance expliquée\n",
    "#print(acp.explained_variance_)\n",
    "\n",
    "#valeur corrigée\n",
    "eigval = (n-1)/n*acp.explained_variance_\n",
    "#print(eigval)\n",
    "\n",
    "#ou bien en passant par les valeurs singulières\n",
    "print(acp.singular_values_**2/n)\n",
    "\n",
    "#proportion de variance expliquée\n",
    "print(acp.explained_variance_ratio_)\n",
    "\n",
    "import numpy\n",
    "\n",
    "#importation librairie graphique\n",
    "import matplotlib.pyplot as plt\n",
    "\n",
    "#scree plot\n",
    "plt.plot(numpy.arange(1,p+1),eigval)\n",
    "plt.title(\"Scree plot\")\n",
    "plt.ylabel(\"Eigen values\")\n",
    "plt.xlabel(\"Factor number\")\n",
    "plt.show()\n",
    "\n",
    "#cumul de variance expliquée\n",
    "plt.plot(numpy.arange(1,p+1),numpy.cumsum(acp.explained_variance_ratio_))\n",
    "plt.title(\"Explained variance vs. # of factors\")\n",
    "plt.ylabel(\"Cumsum explained variance ratio\")\n",
    "plt.xlabel(\"Factor number\")\n",
    "plt.show()\n",
    "\n",
    "#seuils pour test des bâtons brisés\n",
    "bs = 1/numpy.arange(p,0,-1)\n",
    "bs = numpy.cumsum(bs)\n",
    "bs = bs[::-1]\n",
    "\n",
    "sqrt_eigval = numpy.sqrt(eigval)\n",
    "\n",
    "\n",
    "corvar = numpy.zeros((p,p))\n",
    "\n",
    "for k in range(p):\n",
    "    corvar[:,k] = acp.components_[k,:] * sqrt_eigval[k]\n",
    "    \n",
    "#afficher la matrice des corrélations variables x facteurs    \n",
    "#print(corvar)\n",
    "\n",
    "#cercle des corrélations\n",
    "fig, axes = plt.subplots(figsize=(8,8))\n",
    "axes.set_xlim(-1,1)\n",
    "axes.set_ylim(-1,1)\n",
    "\n",
    "for j in range(p):\n",
    "    plt.annotate(X.columns[j],(corvar[j,0],corvar[j,1]))\n",
    "    \n",
    "#ajouter les axes\n",
    "plt.plot([-1,1],[0,0],color='silver',linestyle='-',linewidth=1)\n",
    "plt.plot([0,0],[-1,1],color='silver',linestyle='-',linewidth=1)\n",
    "\n",
    "#ajouter un cercle\n",
    "cercle = plt.Circle((0,0),1,color='blue',fill=False)\n",
    "axes.add_artist(cercle)\n",
    "\n",
    "#affichage\n",
    "plt.show()"
   ]
  },
  {
   "cell_type": "code",
   "execution_count": 19,
   "metadata": {},
   "outputs": [
    {
     "name": "stdout",
     "output_type": "stream",
     "text": [
      "                          id    COS2_1        COS2_2\n",
      "0   IDAvisAutorisAtionCheque  0.000217  5.770545e-04\n",
      "1                    MontAnt  0.515122  5.105897e-02\n",
      "2               CodeDecision  0.013152  1.361520e-02\n",
      "3             VerifiAnceCPT1  0.649639  9.617675e-02\n",
      "4             VerifiAnceCPT2  0.651460  1.275997e-01\n",
      "5             VerifiAnceCPT3  0.592409  1.357123e-01\n",
      "6                       D2CB  0.143004  3.650457e-01\n",
      "7                 ScoringFP1  0.124821  4.454349e-03\n",
      "8                 ScoringFP2  0.031163  6.005327e-03\n",
      "9                 ScoringFP3  0.115578  2.347395e-01\n",
      "10              TAuxImpNb_RB  0.000291  1.707628e-04\n",
      "11             TAuxImpNB_CPM  0.007720  1.931622e-03\n",
      "12              EcArtNumCheq  0.000310  6.836989e-03\n",
      "13              NbrMAgAsin3J  0.006742  1.333758e-01\n",
      "14               DiffDAteTr1  0.073587  5.206342e-01\n",
      "15               DiffDAteTr2  0.158526  6.346670e-01\n",
      "16               DiffDAteTr3  0.179734  5.826113e-01\n",
      "17                CA3TRetMtt  0.461470  1.544751e-01\n",
      "18                     CA3TR  0.005852  2.254843e-01\n",
      "19                     Heure  0.000023  1.771185e-07\n",
      "20                FlAgImpAye  0.001958  1.082630e-03\n",
      "[1. 1. 1. 1. 1. 1. 1. 1. 1. 1. 1. 1. 1. 1. 1. 1. 1. 1. 1. 1. 1.]\n",
      "                          id     CTR_1         CTR_2\n",
      "0   IDAvisAutorisAtionCheque  0.000058  1.750637e-04\n",
      "1                    MontAnt  0.137999  1.549000e-02\n",
      "2               CodeDecision  0.003523  4.130507e-03\n",
      "3             VerifiAnceCPT1  0.174036  2.917758e-02\n",
      "4             VerifiAnceCPT2  0.174524  3.871051e-02\n",
      "5             VerifiAnceCPT3  0.158705  4.117166e-02\n",
      "6                       D2CB  0.038310  1.107456e-01\n",
      "7                 ScoringFP1  0.033439  1.351336e-03\n",
      "8                 ScoringFP2  0.008349  1.821864e-03\n",
      "9                 ScoringFP3  0.030963  7.121401e-02\n",
      "10              TAuxImpNb_RB  0.000078  5.180511e-05\n",
      "11             TAuxImpNB_CPM  0.002068  5.860050e-04\n",
      "12              EcArtNumCheq  0.000083  2.074169e-03\n",
      "13              NbrMAgAsin3J  0.001806  4.046282e-02\n",
      "14               DiffDAteTr1  0.019714  1.579472e-01\n",
      "15               DiffDAteTr2  0.042469  1.925419e-01\n",
      "16               DiffDAteTr3  0.048150  1.767495e-01\n",
      "17                CA3TRetMtt  0.123626  4.686382e-02\n",
      "18                     CA3TR  0.001568  6.840622e-02\n",
      "19                     Heure  0.000006  5.373327e-08\n",
      "20                FlAgImpAye  0.000525  3.284425e-04\n",
      "[1. 1. 1. 1. 1. 1. 1. 1. 1. 1. 1. 1. 1. 1. 1. 1. 1. 1. 1. 1. 1.]\n"
     ]
    }
   ],
   "source": [
    "#cosinus carré des variables\n",
    "cos2var = corvar**2\n",
    "print(pd.DataFrame({'id':X.columns,'COS2_1':cos2var[:,0],'COS2_2':cos2var[:,1]}))\n",
    "\n",
    "#vérification de la théorie\n",
    "print(numpy.sum(cos2var,axis=1))\n",
    "\n",
    "#contributions\n",
    "ctrvar = cos2var\n",
    "\n",
    "for k in range(p):\n",
    "    ctrvar[:,k] = ctrvar[:,k]/eigval[k]\n",
    "\n",
    "#on n'affiche que pour les deux premiers axes\n",
    "print(pd.DataFrame({'id':X.columns,'CTR_1':ctrvar[:,0],'CTR_2':ctrvar[:,1]}))\n",
    "\n",
    "#ici, on peut vérifier\n",
    "print(numpy.sum(ctrvar,axis=0))"
   ]
  },
  {
   "cell_type": "code",
   "execution_count": 20,
   "metadata": {},
   "outputs": [
    {
     "data": {
      "text/html": [
       "<div>\n",
       "<style scoped>\n",
       "    .dataframe tbody tr th:only-of-type {\n",
       "        vertical-align: middle;\n",
       "    }\n",
       "\n",
       "    .dataframe tbody tr th {\n",
       "        vertical-align: top;\n",
       "    }\n",
       "\n",
       "    .dataframe thead th {\n",
       "        text-align: right;\n",
       "    }\n",
       "</style>\n",
       "<table border=\"1\" class=\"dataframe\">\n",
       "  <thead>\n",
       "    <tr style=\"text-align: right;\">\n",
       "      <th></th>\n",
       "      <th>MontAnt</th>\n",
       "      <th>CodeDecision</th>\n",
       "      <th>VerifiAnceCPT1</th>\n",
       "      <th>VerifiAnceCPT2</th>\n",
       "      <th>VerifiAnceCPT3</th>\n",
       "      <th>D2CB</th>\n",
       "      <th>ScoringFP1</th>\n",
       "      <th>ScoringFP2</th>\n",
       "      <th>ScoringFP3</th>\n",
       "      <th>TAuxImpNb_RB</th>\n",
       "      <th>TAuxImpNB_CPM</th>\n",
       "      <th>EcArtNumCheq</th>\n",
       "      <th>NbrMAgAsin3J</th>\n",
       "      <th>DiffDAteTr1</th>\n",
       "      <th>DiffDAteTr2</th>\n",
       "      <th>DiffDAteTr3</th>\n",
       "      <th>CA3TRetMtt</th>\n",
       "      <th>CA3TR</th>\n",
       "    </tr>\n",
       "    <tr>\n",
       "      <th>DAteTrAnsAction</th>\n",
       "      <th></th>\n",
       "      <th></th>\n",
       "      <th></th>\n",
       "      <th></th>\n",
       "      <th></th>\n",
       "      <th></th>\n",
       "      <th></th>\n",
       "      <th></th>\n",
       "      <th></th>\n",
       "      <th></th>\n",
       "      <th></th>\n",
       "      <th></th>\n",
       "      <th></th>\n",
       "      <th></th>\n",
       "      <th></th>\n",
       "      <th></th>\n",
       "      <th></th>\n",
       "      <th></th>\n",
       "    </tr>\n",
       "  </thead>\n",
       "  <tbody>\n",
       "    <tr>\n",
       "      <th>2016-03-21 07:47:38</th>\n",
       "      <td>40.17</td>\n",
       "      <td>0</td>\n",
       "      <td>1</td>\n",
       "      <td>1</td>\n",
       "      <td>1</td>\n",
       "      <td>535</td>\n",
       "      <td>0.0</td>\n",
       "      <td>0.0</td>\n",
       "      <td>0.0</td>\n",
       "      <td>53.937433</td>\n",
       "      <td>21.834061</td>\n",
       "      <td>0</td>\n",
       "      <td>1</td>\n",
       "      <td>4.0</td>\n",
       "      <td>4.0</td>\n",
       "      <td>4.0</td>\n",
       "      <td>40.17</td>\n",
       "      <td>0.0</td>\n",
       "    </tr>\n",
       "    <tr>\n",
       "      <th>2016-03-21 08:04:57</th>\n",
       "      <td>20.00</td>\n",
       "      <td>0</td>\n",
       "      <td>0</td>\n",
       "      <td>0</td>\n",
       "      <td>0</td>\n",
       "      <td>358</td>\n",
       "      <td>0.0</td>\n",
       "      <td>0.0</td>\n",
       "      <td>0.0</td>\n",
       "      <td>44.742729</td>\n",
       "      <td>12.586532</td>\n",
       "      <td>0</td>\n",
       "      <td>1</td>\n",
       "      <td>4.0</td>\n",
       "      <td>4.0</td>\n",
       "      <td>4.0</td>\n",
       "      <td>20.00</td>\n",
       "      <td>0.0</td>\n",
       "    </tr>\n",
       "    <tr>\n",
       "      <th>2016-03-21 08:06:45</th>\n",
       "      <td>35.00</td>\n",
       "      <td>0</td>\n",
       "      <td>0</td>\n",
       "      <td>0</td>\n",
       "      <td>0</td>\n",
       "      <td>199</td>\n",
       "      <td>0.0</td>\n",
       "      <td>0.0</td>\n",
       "      <td>0.0</td>\n",
       "      <td>17.094017</td>\n",
       "      <td>39.274924</td>\n",
       "      <td>0</td>\n",
       "      <td>1</td>\n",
       "      <td>4.0</td>\n",
       "      <td>4.0</td>\n",
       "      <td>4.0</td>\n",
       "      <td>35.00</td>\n",
       "      <td>0.0</td>\n",
       "    </tr>\n",
       "    <tr>\n",
       "      <th>2016-03-21 08:11:38</th>\n",
       "      <td>20.00</td>\n",
       "      <td>0</td>\n",
       "      <td>0</td>\n",
       "      <td>0</td>\n",
       "      <td>0</td>\n",
       "      <td>38</td>\n",
       "      <td>0.0</td>\n",
       "      <td>0.0</td>\n",
       "      <td>0.0</td>\n",
       "      <td>41.878552</td>\n",
       "      <td>39.274924</td>\n",
       "      <td>0</td>\n",
       "      <td>1</td>\n",
       "      <td>4.0</td>\n",
       "      <td>4.0</td>\n",
       "      <td>4.0</td>\n",
       "      <td>20.00</td>\n",
       "      <td>0.0</td>\n",
       "    </tr>\n",
       "    <tr>\n",
       "      <th>2016-03-21 08:17:11</th>\n",
       "      <td>20.00</td>\n",
       "      <td>0</td>\n",
       "      <td>0</td>\n",
       "      <td>0</td>\n",
       "      <td>0</td>\n",
       "      <td>26</td>\n",
       "      <td>0.0</td>\n",
       "      <td>0.0</td>\n",
       "      <td>0.0</td>\n",
       "      <td>17.094017</td>\n",
       "      <td>39.274924</td>\n",
       "      <td>0</td>\n",
       "      <td>1</td>\n",
       "      <td>4.0</td>\n",
       "      <td>4.0</td>\n",
       "      <td>4.0</td>\n",
       "      <td>20.00</td>\n",
       "      <td>0.0</td>\n",
       "    </tr>\n",
       "  </tbody>\n",
       "</table>\n",
       "</div>"
      ],
      "text/plain": [
       "                     MontAnt  CodeDecision  VerifiAnceCPT1  VerifiAnceCPT2  \\\n",
       "DAteTrAnsAction                                                              \n",
       "2016-03-21 07:47:38    40.17             0               1               1   \n",
       "2016-03-21 08:04:57    20.00             0               0               0   \n",
       "2016-03-21 08:06:45    35.00             0               0               0   \n",
       "2016-03-21 08:11:38    20.00             0               0               0   \n",
       "2016-03-21 08:17:11    20.00             0               0               0   \n",
       "\n",
       "                     VerifiAnceCPT3  D2CB  ScoringFP1  ScoringFP2  ScoringFP3  \\\n",
       "DAteTrAnsAction                                                                 \n",
       "2016-03-21 07:47:38               1   535         0.0         0.0         0.0   \n",
       "2016-03-21 08:04:57               0   358         0.0         0.0         0.0   \n",
       "2016-03-21 08:06:45               0   199         0.0         0.0         0.0   \n",
       "2016-03-21 08:11:38               0    38         0.0         0.0         0.0   \n",
       "2016-03-21 08:17:11               0    26         0.0         0.0         0.0   \n",
       "\n",
       "                     TAuxImpNb_RB  TAuxImpNB_CPM  EcArtNumCheq  NbrMAgAsin3J  \\\n",
       "DAteTrAnsAction                                                                \n",
       "2016-03-21 07:47:38     53.937433      21.834061             0             1   \n",
       "2016-03-21 08:04:57     44.742729      12.586532             0             1   \n",
       "2016-03-21 08:06:45     17.094017      39.274924             0             1   \n",
       "2016-03-21 08:11:38     41.878552      39.274924             0             1   \n",
       "2016-03-21 08:17:11     17.094017      39.274924             0             1   \n",
       "\n",
       "                     DiffDAteTr1  DiffDAteTr2  DiffDAteTr3  CA3TRetMtt  CA3TR  \n",
       "DAteTrAnsAction                                                                \n",
       "2016-03-21 07:47:38          4.0          4.0          4.0       40.17    0.0  \n",
       "2016-03-21 08:04:57          4.0          4.0          4.0       20.00    0.0  \n",
       "2016-03-21 08:06:45          4.0          4.0          4.0       35.00    0.0  \n",
       "2016-03-21 08:11:38          4.0          4.0          4.0       20.00    0.0  \n",
       "2016-03-21 08:17:11          4.0          4.0          4.0       20.00    0.0  "
      ]
     },
     "execution_count": 20,
     "metadata": {},
     "output_type": "execute_result"
    }
   ],
   "source": [
    "data = df.iloc[:, 2:20] #all except heure, ZIB & ID\n",
    "#len(data.columns)\n",
    "X = data #feature, we take them all for a 1st analysis. \n",
    "y = df.iloc[:, 21] #target\n",
    "X.head()"
   ]
  },
  {
   "cell_type": "code",
   "execution_count": 594,
   "metadata": {},
   "outputs": [
    {
     "data": {
      "text/plain": [
       "0    263288\n",
       "1       855\n",
       "Name: FlAgImpAye, dtype: int64"
      ]
     },
     "execution_count": 594,
     "metadata": {},
     "output_type": "execute_result"
    }
   ],
   "source": [
    "trainset =  X['2016-05-20':'2016-09-19'] #on 4 months #pca1['2016-03-21':'2016-09-19']\n",
    "testset = X['2016-09-20':'2016-10-19']\n",
    "X_train, X_test, y_train, y_test = trainset, testset, y['2016-05-20':'2016-09-19'], y['2016-09-20':'2016-10-19']\n",
    "val = y_train.value_counts()\n",
    "n = len(y_train)\n",
    "y_test.value_counts()"
   ]
  },
  {
   "cell_type": "code",
   "execution_count": 8,
   "metadata": {},
   "outputs": [
    {
     "data": {
      "text/plain": [
       "{1: 163.61909814323607, 0: 0.5015326225000366}"
      ]
     },
     "execution_count": 8,
     "metadata": {},
     "output_type": "execute_result"
    }
   ],
   "source": [
    "weight = {1:n/(2*val[1]), 0:n/(2*val[0])} #D'apres la presentation, 0.6% de fraude\n",
    "weight"
   ]
  },
  {
   "cell_type": "code",
   "execution_count": 16,
   "metadata": {},
   "outputs": [],
   "source": [
    "scorer = make_scorer(f1_score) #Type de score\n",
    "Classifier = DecisionTreeClassifier( class_weight='balanced', random_state=0) #Intaciation du modèle\n",
    "params = {\"criterion\":[\"gini\", \"entropy\"]} #Paramètres à tester\n",
    "clf = GridSearchCV(Classifier, param_grid=params, cv=5, n_jobs=-1,scoring=scorer) #DONE consider auc_roc\n",
    "clf.fit(X_train, y_train) #On applique sur les données d'apprentissage"
   ]
  },
  {
   "cell_type": "code",
   "execution_count": 29,
   "metadata": {},
   "outputs": [
    {
     "name": "stdout",
     "output_type": "stream",
     "text": [
      "{'criterion': 'entropy'}\n",
      "0.960356098453483\n"
     ]
    }
   ],
   "source": [
    "print(clf.best_params_)#Meilleur paramètrage\n",
    "print(clf.best_score_)#Meilleur score\n",
    "best = clf.best_estimator_"
   ]
  },
  {
   "cell_type": "code",
   "execution_count": 119,
   "metadata": {
    "scrolled": true
   },
   "outputs": [
    {
     "name": "stdout",
     "output_type": "stream",
     "text": [
      "[[262539    749]\n",
      " [   819     36]]\n",
      "f1 0.04390243902439024\n",
      "precision 0.045859872611464965\n",
      "recall 0.042105263157894736\n",
      "              precision    recall  f1-score   support\n",
      "\n",
      "           0       1.00      1.00      1.00    263288\n",
      "           1       0.05      0.04      0.04       855\n",
      "\n",
      "    accuracy                           0.99    264143\n",
      "   macro avg       0.52      0.52      0.52    264143\n",
      "weighted avg       0.99      0.99      0.99    264143\n",
      "\n"
     ]
    }
   ],
   "source": [
    "pred = clf.predict(X_test)\n",
    "print(confusion_matrix(y_test,pred))\n",
    "print(\"f1\",f1_score(y_test,pred))\n",
    "print(\"precision\",precision_score(y_test,pred))\n",
    "print('recall',recall_score(y_test,pred))\n",
    "print(classification_report(y_test,pred))"
   ]
  },
  {
   "cell_type": "code",
   "execution_count": 29,
   "metadata": {},
   "outputs": [],
   "source": [
    "N, train_score, val_score = learning_curve(best, X_train, pd.Series(y_train), train_sizes = np.linspace(0.2,1.0,5),cv=5, scoring=scorer, n_jobs=-1)"
   ]
  },
  {
   "cell_type": "code",
   "execution_count": 30,
   "metadata": {},
   "outputs": [
    {
     "data": {
      "text/plain": [
       "[<matplotlib.lines.Line2D at 0x1aa329cad60>]"
      ]
     },
     "execution_count": 30,
     "metadata": {},
     "output_type": "execute_result"
    },
    {
     "data": {
      "image/png": "[encoded data removed]",
      "text/plain": [
       "<Figure size 432x288 with 1 Axes>"
      ]
     },
     "metadata": {
      "needs_background": "light"
     },
     "output_type": "display_data"
    }
   ],
   "source": [
    "fig = plt.figure()\n",
    "plt.plot(N,train_score.mean(axis=1))\n",
    "plt.plot(N,val_score.mean(axis=1), color='orange')"
   ]
  },
  {
   "cell_type": "markdown",
   "metadata": {},
   "source": [
    "---\n",
    "On constate que l'on est en overfitting. Une stratégie de bagging semble donc adaptée.\n",
    "\n",
    "Qu'en est-il des variables du modèle ?"
   ]
  },
  {
   "cell_type": "code",
   "execution_count": 120,
   "metadata": {
    "scrolled": true
   },
   "outputs": [
    {
     "data": {
      "text/plain": [
       "<matplotlib.axes._subplots.AxesSubplot at 0x1aa281cfeb0>"
      ]
     },
     "execution_count": 120,
     "metadata": {},
     "output_type": "execute_result"
    },
    {
     "data": {
      "image/png": "[encoded data removed]",
      "text/plain": [
       "<Figure size 864x576 with 1 Axes>"
      ]
     },
     "metadata": {
      "needs_background": "light"
     },
     "output_type": "display_data"
    }
   ],
   "source": [
    "pd.DataFrame(best.feature_importances_, index=X_train.columns).plot.bar(figsize=(12, 8))"
   ]
  },
  {
   "cell_type": "markdown",
   "metadata": {},
   "source": [
    "----\n",
    "## Feature engineering\n",
    "\n",
    "D'après le graphique ci-dessus, il y a au plus 9 variables qui sortent du lot.\n",
    "\n"
   ]
  },
  {
   "cell_type": "code",
   "execution_count": 79,
   "metadata": {},
   "outputs": [],
   "source": [
    "ColImp = pd.DataFrame((data['TAuxImpNb_RB']+ data['TAuxImpNB_CPM'])/2, columns=['TauxImp']) #TAuxImpNb_RB seul est moyen\n",
    "CA4 = pd.DataFrame((data['CA3TRetMtt'] + data['CA3TR'] + data['MontAnt']), columns=['CA4']) #on accorde un poids doublé aux 4 dernieres transactions (dont celle en cours)\n",
    "Scoring = pd.DataFrame(data['ScoringFP1']+ data['ScoringFP2']+ data['ScoringFP3'], columns=['ScoringFP']) # tenté, mais perte d'info a priori\n",
    "\n",
    "#Les var principales d'apres le barplot:\n",
    "pca0 = data[['MontAnt','D2CB', 'ScoringFP1', 'ScoringFP2', 'ScoringFP3', 'TAuxImpNB_CPM', 'CA3TRetMtt', 'TAuxImpNb_RB', 'DiffDAteTr1']] #entre 7 et 9 var principales, NOPE: VerifiAnceCPT3\n",
    "pca1 = pd.concat([data[['MontAnt','D2CB', 'ScoringFP1', 'ScoringFP2', 'ScoringFP3', 'CA3TRetMtt', 'DiffDAteTr1']], ColImp], axis=1) #7 best var, merged: 'TAuxImpNb_RB'\n",
    "pca2 = pd.concat([data[['MontAnt','D2CB', 'ScoringFP1', 'ScoringFP2', 'ScoringFP3']], ColImp, CA4], axis=1)\n",
    "pca3 = pd.concat([data[['MontAnt','D2CB']], ColImp, CA4, Scoring], axis=1) #\n",
    "\n",
    "#pca1=pca2"
   ]
  },
  {
   "cell_type": "code",
   "execution_count": 653,
   "metadata": {},
   "outputs": [],
   "source": [
    "X=data # essai sur pca 0 a 3 fait. data semble etre le jeu donnant les meilleurs performances\n",
    "trainset =  X['2016-05-20':'2016-09-19'] #on 2 weeks #pca1['2016-03-21':'2016-09-19']\n",
    "testset = X['2016-09-20':'2016-10-19']\n",
    "X_train, X_test, y_train, y_test = trainset, testset, y['2016-05-20':'2016-09-19'], y['2016-09-20':'2016-10-19']"
   ]
  },
  {
   "cell_type": "code",
   "execution_count": null,
   "metadata": {},
   "outputs": [],
   "source": []
  },
  {
   "cell_type": "code",
   "execution_count": 17,
   "metadata": {},
   "outputs": [],
   "source": [
    "clf.fit(X_train, y_train) #On applique sur les données d'apprentissage\n",
    "pred = clf.predict(X_test)"
   ]
  },
  {
   "cell_type": "code",
   "execution_count": 18,
   "metadata": {},
   "outputs": [
    {
     "name": "stdout",
     "output_type": "stream",
     "text": [
      "[[262503    785]\n",
      " [   834     21]]\n",
      "              precision    recall  f1-score   support\n",
      "\n",
      "           0       1.00      1.00      1.00    263288\n",
      "           1       0.03      0.02      0.03       855\n",
      "\n",
      "    accuracy                           0.99    264143\n",
      "   macro avg       0.51      0.51      0.51    264143\n",
      "weighted avg       0.99      0.99      0.99    264143\n",
      "\n"
     ]
    }
   ],
   "source": [
    "print(confusion_matrix(y_test,pred))\n",
    "print(classification_report(y_test,pred))"
   ]
  },
  {
   "cell_type": "code",
   "execution_count": 19,
   "metadata": {},
   "outputs": [
    {
     "data": {
      "text/plain": [
       "<matplotlib.axes._subplots.AxesSubplot at 0x2940224afa0>"
      ]
     },
     "execution_count": 19,
     "metadata": {},
     "output_type": "execute_result"
    },
    {
     "data": {
      "image/png": "[encoded data removed]",
      "text/plain": [
       "<Figure size 864x576 with 1 Axes>"
      ]
     },
     "metadata": {
      "needs_background": "light"
     },
     "output_type": "display_data"
    }
   ],
   "source": [
    "pd.DataFrame(clf.best_estimator_.feature_importances_, index=X_train.columns).plot.bar(figsize=(12, 8))"
   ]
  },
  {
   "cell_type": "markdown",
   "metadata": {},
   "source": [
    "---\n",
    "## Oversampling\n",
    "Le jeu de données étant déséquilibré, nous allons dans un premier temps utiliser la méthode SMOTE pour créer des observations supplémentaires de la classe minoritaire."
   ]
  },
  {
   "cell_type": "code",
   "execution_count": 654,
   "metadata": {},
   "outputs": [
    {
     "data": {
      "text/plain": [
       "0    1315109\n",
       "1     552345\n",
       "dtype: int64"
      ]
     },
     "execution_count": 654,
     "metadata": {},
     "output_type": "execute_result"
    }
   ],
   "source": [
    "#Oversampling\n",
    "from imblearn.over_sampling import SMOTE\n",
    "from sklearn.utils import shuffle\n",
    "#oversampling rn\n",
    "sm1 = SMOTE(random_state=2, sampling_strategy= 0.42, n_jobs=-1) #sampling_strategy a definir par tatonnement\n",
    "X_train_res, y_train_res = sm1.fit_sample(X_train, y_train.ravel())\n",
    "X_train_res, y_train_res = shuffle(X_train_res, y_train_res, random_state=2) #otherwise learning curves have no 1 in samples\n",
    "pd.Series(y_train_res).value_counts()"
   ]
  },
  {
   "cell_type": "code",
   "execution_count": 27,
   "metadata": {},
   "outputs": [],
   "source": [
    "clf.fit(X_train_res, y_train_res) #On applique sur les données d'apprentissage oversampled\n",
    "pred = clf.predict(X_test)"
   ]
  },
  {
   "cell_type": "code",
   "execution_count": 28,
   "metadata": {},
   "outputs": [
    {
     "name": "stdout",
     "output_type": "stream",
     "text": [
      "[[259824   3464]\n",
      " [   762     93]]\n",
      "              precision    recall  f1-score   support\n",
      "\n",
      "           0       1.00      0.99      0.99    263288\n",
      "           1       0.03      0.11      0.04       855\n",
      "\n",
      "    accuracy                           0.98    264143\n",
      "   macro avg       0.51      0.55      0.52    264143\n",
      "weighted avg       0.99      0.98      0.99    264143\n",
      "\n"
     ]
    }
   ],
   "source": [
    "print(confusion_matrix(y_test,pred))\n",
    "print(classification_report(y_test,pred))"
   ]
  },
  {
   "cell_type": "code",
   "execution_count": 644,
   "metadata": {},
   "outputs": [
    {
     "data": {
      "text/plain": [
       "<matplotlib.axes._subplots.AxesSubplot at 0x2945a8ba5b0>"
      ]
     },
     "execution_count": 644,
     "metadata": {},
     "output_type": "execute_result"
    },
    {
     "data": {
      "image/png": "[encoded data removed]",
      "text/plain": [
       "<Figure size 864x576 with 1 Axes>"
      ]
     },
     "metadata": {
      "needs_background": "light"
     },
     "output_type": "display_data"
    }
   ],
   "source": [
    "pd.DataFrame(clf.best_estimator_.feature_importances_, index=X_train.columns).plot.bar(figsize=(12, 8))"
   ]
  },
  {
   "cell_type": "code",
   "execution_count": 32,
   "metadata": {},
   "outputs": [],
   "source": [
    "from sklearn.ensemble import RandomForestClassifier, AdaBoostClassifier\n",
    "from sklearn.svm import SVC\n",
    "from sklearn.neighbors import KNeighborsClassifier\n",
    "from sklearn.pipeline import make_pipeline\n",
    "from sklearn.feature_selection import SelectKBest, f_classif\n",
    "from sklearn.preprocessing import PolynomialFeatures, StandardScaler\n",
    "from sklearn.decomposition import PCA\n",
    "from sklearn.base import clone"
   ]
  },
  {
   "cell_type": "code",
   "execution_count": 34,
   "metadata": {},
   "outputs": [],
   "source": [
    "#polynomial feature de degré 2 et 3 tenté mais moins performant que degré 1\n",
    "preprocessor = make_pipeline(PolynomialFeatures(1, include_bias=False), SelectKBest(f_classif, k='all')) "
   ]
  },
  {
   "cell_type": "code",
   "execution_count": 413,
   "metadata": {},
   "outputs": [],
   "source": [
    "RandomForest = make_pipeline(preprocessor, RandomForestClassifier(random_state=0, n_jobs=-1))\n",
    "GradBoost = make_pipeline(preprocessor, StandardScaler(), GradientBoostingClassifier( n_estimators=400,random_state=0)) #init=best\n",
    "AdaBoost = make_pipeline(preprocessor, AdaBoostClassifier(random_state=0))\n",
    "#SVM = make_pipeline(preprocessor, StandardScaler(), SVC(random_state=0))\n",
    "#KNN = make_pipeline(preprocessor, StandardScaler(), KNeighborsClassifier(n_jobs= -1))\n",
    "\n",
    "dict_of_models = {'RandomForest': RandomForest,\n",
    "                  'GradBoost': GradBoost,\n",
    "                  'AdaBoost' : AdaBoost,\n",
    "                  #'SVM': SVM,\n",
    "                  #'KNN': KNN\n",
    "                 }"
   ]
  },
  {
   "cell_type": "code",
   "execution_count": 414,
   "metadata": {},
   "outputs": [],
   "source": [
    "def eval_over(model):\n",
    "    \n",
    "    model.fit(X_train_res, y_train_res)\n",
    "    ypred = model.predict(X_test)\n",
    "    \n",
    "    print(confusion_matrix(y_test, ypred))\n",
    "    print(classification_report(y_test, ypred))\n",
    "    return ypred"
   ]
  },
  {
   "cell_type": "code",
   "execution_count": 415,
   "metadata": {
    "scrolled": true
   },
   "outputs": [
    {
     "name": "stdout",
     "output_type": "stream",
     "text": [
      "RandomForest\n",
      "[[262472    816]\n",
      " [   795     60]]\n",
      "              precision    recall  f1-score   support\n",
      "\n",
      "           0       1.00      1.00      1.00    263288\n",
      "           1       0.07      0.07      0.07       855\n",
      "\n",
      "    accuracy                           0.99    264143\n",
      "   macro avg       0.53      0.53      0.53    264143\n",
      "weighted avg       0.99      0.99      0.99    264143\n",
      "\n",
      "GradBoost\n",
      "[[260213   3075]\n",
      " [   701    154]]\n",
      "              precision    recall  f1-score   support\n",
      "\n",
      "           0       1.00      0.99      0.99    263288\n",
      "           1       0.05      0.18      0.08       855\n",
      "\n",
      "    accuracy                           0.99    264143\n",
      "   macro avg       0.52      0.58      0.53    264143\n",
      "weighted avg       0.99      0.99      0.99    264143\n",
      "\n",
      "AdaBoost\n",
      "[[245076  18212]\n",
      " [   509    346]]\n",
      "              precision    recall  f1-score   support\n",
      "\n",
      "           0       1.00      0.93      0.96    263288\n",
      "           1       0.02      0.40      0.04       855\n",
      "\n",
      "    accuracy                           0.93    264143\n",
      "   macro avg       0.51      0.67      0.50    264143\n",
      "weighted avg       0.99      0.93      0.96    264143\n",
      "\n"
     ]
    }
   ],
   "source": [
    "import warnings\n",
    "warnings.filterwarnings(action='once') #does not hide\n",
    "for name, model in dict_of_models.items():\n",
    "    print(name)\n",
    "    eval_over(model)"
   ]
  },
  {
   "cell_type": "markdown",
   "metadata": {},
   "source": [
    "---\n",
    "### Choix du modèle\n",
    "Parmi les différents modèles essayés, le RandomForest et le GradientBoosting semble être les plus prometteurs. Nous allons nous concentrer sur ces 2 modèles dans la suite."
   ]
  },
  {
   "cell_type": "code",
   "execution_count": null,
   "metadata": {},
   "outputs": [],
   "source": [
    "predGrad = GradBoost.predict(X_test)\n",
    "predRdmF = RandomForest.predict(X_test)\n",
    "predAda = AdaBoost.predict(X_test)"
   ]
  },
  {
   "cell_type": "markdown",
   "metadata": {},
   "source": [
    "### Optimisation de RandomForest :\n",
    "Avec un GridSearchCV"
   ]
  },
  {
   "cell_type": "code",
   "execution_count": 285,
   "metadata": {},
   "outputs": [],
   "source": [
    "#Grid on RdmF\n",
    "param_forest = {\n",
    "    'n_estimators'      : [300],\n",
    "    #'max_depth'         : [25, 35], #None seems better\n",
    "    'max_features': ['auto', len(X_train_res.columns)],\n",
    "    'criterion' :['gini','entropy']\n",
    "}"
   ]
  },
  {
   "cell_type": "code",
   "execution_count": 286,
   "metadata": {},
   "outputs": [
    {
     "data": {
      "text/plain": [
       "GridSearchCV(estimator=RandomForestClassifier(n_jobs=-1, random_state=0),\n",
       "             n_jobs=-1,\n",
       "             param_grid={'criterion': ['gini', 'entropy'],\n",
       "                         'max_features': ['auto', 9], 'n_estimators': [300]},\n",
       "             scoring=make_scorer(f1_score))"
      ]
     },
     "execution_count": 286,
     "metadata": {},
     "output_type": "execute_result"
    }
   ],
   "source": [
    "#scorer = make_scorer(f1_score) #Type de score\n",
    "#Classifier = RandomForestClassifier(random_state=0, n_jobs=-1) #Intaciation du modèle\n",
    "#params = param_forest #Paramètres à tester\n",
    "#rfcv = GridSearchCV(Classifier, param_grid=params, n_jobs=-1,scoring=scorer) #DONE consider auc_roc\n",
    "#rfcv.fit(X_train_res, y_train_res) #On applique sur les données d'apprentissage oversampled"
   ]
  },
  {
   "cell_type": "markdown",
   "metadata": {},
   "source": [
    "---\n",
    "Le meilleur paramétrage semble être celui ci dessous :\n",
    "$criterion = entropy,  max\\_features= auto,  n\\_estimators= 300,  max\\_depth=None$\n",
    "\n",
    "Nous utiliserons cette configuration pour les prédictions à venir"
   ]
  },
  {
   "cell_type": "code",
   "execution_count": 655,
   "metadata": {},
   "outputs": [],
   "source": [
    "best_rf = RandomForestClassifier(criterion = 'entropy', max_features= 'auto', n_estimators= 300, random_state=0, n_jobs=-1) #Intaciation du modèle"
   ]
  },
  {
   "cell_type": "code",
   "execution_count": 418,
   "metadata": {},
   "outputs": [],
   "source": [
    "#print(rfcv.best_params_)#Meilleur paramètrage\n",
    "## crit = gini, depth = 15, feature=8 estimators = 300\n",
    "## 'criterion': 'entropy', 'max_depth': 25, 'max_features': 'auto', 'n_estimators': 300\n",
    "#print(rfcv.best_score_)#Meilleur score\n",
    "#best_rf = rfcv.best_estimator_"
   ]
  },
  {
   "cell_type": "code",
   "execution_count": 658,
   "metadata": {},
   "outputs": [],
   "source": [
    "best_rf.fit(X_train_res, y_train_res)\n",
    "pred_rf = best_rf.predict(X_test)"
   ]
  },
  {
   "cell_type": "code",
   "execution_count": 812,
   "metadata": {},
   "outputs": [
    {
     "name": "stdout",
     "output_type": "stream",
     "text": [
      "[[262682    606]\n",
      " [   779     76]]\n",
      "              precision    recall  f1-score   support\n",
      "\n",
      "           0       1.00      1.00      1.00    263288\n",
      "           1       0.11      0.09      0.10       855\n",
      "\n",
      "    accuracy                           0.99    264143\n",
      "   macro avg       0.55      0.54      0.55    264143\n",
      "weighted avg       0.99      0.99      0.99    264143\n",
      "\n"
     ]
    }
   ],
   "source": [
    "print(confusion_matrix(y_test, pred_rf))\n",
    "print(classification_report(y_test, pred_rf))"
   ]
  },
  {
   "cell_type": "markdown",
   "metadata": {},
   "source": [
    "---\n",
    "### Optimisation du GradientBoosting \n",
    "Avec les P/R curves"
   ]
  },
  {
   "cell_type": "code",
   "execution_count": null,
   "metadata": {},
   "outputs": [],
   "source": [
    "boo = clone(GradBoost)#GradientBoostingClassifier( n_estimators=400) #init = best or RandomForest "
   ]
  },
  {
   "cell_type": "code",
   "execution_count": null,
   "metadata": {},
   "outputs": [],
   "source": [
    "eval_over(boo)\n",
    "predg = boo.predict(X_test)"
   ]
  },
  {
   "cell_type": "code",
   "execution_count": null,
   "metadata": {},
   "outputs": [],
   "source": [
    "from sklearn.metrics import precision_recall_curve\n",
    "precision, recall, threshold = precision_recall_curve(y_test, boo.decision_function(X_test))"
   ]
  },
  {
   "cell_type": "code",
   "execution_count": 827,
   "metadata": {},
   "outputs": [
    {
     "data": {
      "text/plain": [
       "<matplotlib.legend.Legend at 0x294601f3460>"
      ]
     },
     "execution_count": 827,
     "metadata": {},
     "output_type": "execute_result"
    },
    {
     "data": {
      "image/png": "[encoded data removed]",
      "text/plain": [
       "<Figure size 432x288 with 1 Axes>"
      ]
     },
     "metadata": {
      "needs_background": "light"
     },
     "output_type": "display_data"
    }
   ],
   "source": [
    "plt.plot(threshold, precision[:-1], label='precision')\n",
    "plt.plot(threshold, recall[:-1], label='recall')\n",
    "plt.legend()"
   ]
  },
  {
   "cell_type": "code",
   "execution_count": null,
   "metadata": {},
   "outputs": [],
   "source": [
    "def model_final(model, X, threshold=0):\n",
    "    return model.decision_function(X) > threshold\n",
    "\n",
    "def find_threshold():\n",
    "    fmes =[] #la moyenne harmonique de P et R\n",
    "    for i in range(len(threshold)):\n",
    "        prod = 2*recall[i]*precision[i]\n",
    "        somme = recall[i]+precision[i]\n",
    "        if prod ==0:\n",
    "            fmes += [0]\n",
    "        else:\n",
    "            fmes += [prod/somme]\n",
    "    indice = fmes.index(max(fmes))\n",
    "    print(fmes[indice])\n",
    "    seuil = threshold[indice-1]\n",
    "    return seuil"
   ]
  },
  {
   "cell_type": "code",
   "execution_count": 828,
   "metadata": {},
   "outputs": [
    {
     "name": "stdout",
     "output_type": "stream",
     "text": [
      "0.13225806451612904\n",
      "0.7490744188502365\n"
     ]
    }
   ],
   "source": [
    "seuil = find_threshold()\n",
    "print(seuil)\n",
    "y_pred_fin = model_final(boo, X_test, threshold=seuil)#-0.0002) # trouver seuil avec graph/ seuil de la fct find_threshold()"
   ]
  },
  {
   "cell_type": "code",
   "execution_count": 829,
   "metadata": {},
   "outputs": [
    {
     "name": "stdout",
     "output_type": "stream",
     "text": [
      "[[262985    303]\n",
      " [   773     82]]\n",
      "0.13225806451612904\n",
      "              precision    recall  f1-score   support\n",
      "\n",
      "           0       1.00      1.00      1.00    263288\n",
      "           1       0.21      0.10      0.13       855\n",
      "\n",
      "    accuracy                           1.00    264143\n",
      "   macro avg       0.61      0.55      0.57    264143\n",
      "weighted avg       0.99      1.00      1.00    264143\n",
      "\n"
     ]
    }
   ],
   "source": [
    "mat = confusion_matrix(y_test, y_pred_fin)\n",
    "print(mat)\n",
    "print(f1_score(y_test, y_pred_fin))\n",
    "print(classification_report(y_test, y_pred_fin))"
   ]
  },
  {
   "cell_type": "code",
   "execution_count": null,
   "metadata": {},
   "outputs": [],
   "source": []
  },
  {
   "cell_type": "markdown",
   "metadata": {},
   "source": [
    "---\n",
    "## Bagging\n",
    "### Hard voting strategy"
   ]
  },
  {
   "cell_type": "code",
   "execution_count": 830,
   "metadata": {},
   "outputs": [
    {
     "name": "stdout",
     "output_type": "stream",
     "text": [
      "[[263228     60]\n",
      " [   802     53]]\n",
      "              precision    recall  f1-score   support\n",
      "\n",
      "           0       1.00      1.00      1.00    263288\n",
      "           1       0.47      0.06      0.11       855\n",
      "\n",
      "    accuracy                           1.00    264143\n",
      "   macro avg       0.73      0.53      0.55    264143\n",
      "weighted avg       1.00      1.00      1.00    264143\n",
      "\n"
     ]
    }
   ],
   "source": [
    "#Bagging, hard voting with predictions\n",
    "pred_comb = pd.Series((y_pred_fin + pred_rf)//2)\n",
    "#pred_comb.value_counts()\n",
    "print(confusion_matrix(y_test, pred_comb))\n",
    "print(classification_report(y_test, pred_comb))"
   ]
  },
  {
   "cell_type": "markdown",
   "metadata": {},
   "source": [
    "### Soft voting strategy\n",
    "Using probabilities predictions"
   ]
  },
  {
   "cell_type": "code",
   "execution_count": 422,
   "metadata": {},
   "outputs": [],
   "source": [
    "from sklearn.ensemble import VotingClassifier"
   ]
  },
  {
   "cell_type": "code",
   "execution_count": 423,
   "metadata": {},
   "outputs": [],
   "source": [
    "#Bagging, soft voting with models (can be long to compute)\n",
    "\n",
    "#vote = VotingClassifier(estimators= [ ('gra', boo) , ('rfcv', best_rf)], voting='soft', n_jobs=-1)"
   ]
  },
  {
   "cell_type": "code",
   "execution_count": 880,
   "metadata": {},
   "outputs": [],
   "source": [
    "#predVote = eval_over(vote) #f1 = 0.09"
   ]
  },
  {
   "cell_type": "code",
   "execution_count": 831,
   "metadata": {},
   "outputs": [],
   "source": [
    "proba = boo.predict_proba(X_test) + best_rf.predict_proba(X_test) #+RandomForest.predict_proba(X_test)"
   ]
  },
  {
   "cell_type": "code",
   "execution_count": 832,
   "metadata": {},
   "outputs": [],
   "source": [
    "#input: somme des probas d'appartenance a une classe (0 ou 1) de differents modeles\n",
    "def proba_pred(proba):\n",
    "    by_proba = []  #is empirically equivalent to predVote\n",
    "    class0 = proba[:,0]\n",
    "    class1 = proba[:,1]\n",
    "    for i in range(len(proba)):\n",
    "        if  class0[i]>class1[i]:\n",
    "            by_proba += [0]\n",
    "        else :\n",
    "            by_proba += [1]\n",
    "    return by_proba\n"
   ]
  },
  {
   "cell_type": "code",
   "execution_count": 833,
   "metadata": {},
   "outputs": [
    {
     "data": {
      "text/plain": [
       "0    263586\n",
       "1       557\n",
       "dtype: int64"
      ]
     },
     "execution_count": 833,
     "metadata": {},
     "output_type": "execute_result"
    }
   ],
   "source": [
    "by_proba = proba_pred(proba)\n",
    "pd.Series(by_proba).value_counts()"
   ]
  },
  {
   "cell_type": "code",
   "execution_count": 873,
   "metadata": {},
   "outputs": [
    {
     "name": "stdout",
     "output_type": "stream",
     "text": [
      "[[262826    462]\n",
      " [   760     95]]\n",
      "f1: 0.13456090651558072\n",
      "              precision    recall  f1-score   support\n",
      "\n",
      "           0       1.00      1.00      1.00    263288\n",
      "           1       0.17      0.11      0.13       855\n",
      "\n",
      "    accuracy                           1.00    264143\n",
      "   macro avg       0.58      0.55      0.57    264143\n",
      "weighted avg       0.99      1.00      0.99    264143\n",
      "\n"
     ]
    }
   ],
   "source": [
    "#On a les memes reultat qu'avec le VotingClassifier. \n",
    "#L'interet ici est le temps de calcul puisque on ne 're-fit' pas les modeles sur les donnees d'entrainement\n",
    "print(confusion_matrix(y_test, by_proba))\n",
    "print(\"f1:\", f1_score(y_test, by_proba))\n",
    "print(classification_report(y_test, by_proba))"
   ]
  },
  {
   "cell_type": "code",
   "execution_count": 811,
   "metadata": {},
   "outputs": [
    {
     "name": "stdout",
     "output_type": "stream",
     "text": [
      "[[263228     60]\n",
      " [   802     53]]\n",
      "              precision    recall  f1-score   support\n",
      "\n",
      "           0       1.00      1.00      1.00    263288\n",
      "           1       0.47      0.06      0.11       855\n",
      "\n",
      "    accuracy                           1.00    264143\n",
      "   macro avg       0.73      0.53      0.55    264143\n",
      "weighted avg       1.00      1.00      1.00    264143\n",
      "\n"
     ]
    }
   ],
   "source": [
    "pred_both = pd.Series((pred_comb + by_proba)//2)\n",
    "#pred_comb.value_counts()\n",
    "print(confusion_matrix(y_test, pred_both))\n",
    "print(classification_report(y_test, pred_both))\n",
    "#f1=0.08, FP = 2113, TP = 131"
   ]
  },
  {
   "cell_type": "markdown",
   "metadata": {},
   "source": [
    "---\n",
    "## Undersampling\n",
    "Nous allons maintenant utiliser la méthode Tomek afin de retirer des observations de la classe majoritaire qui sont les plus proches de la classe minoritaire (au sens des plus proches voisins).\n",
    "Après expérience, les résultats obtenus sur l'undersampling seul sont moins bons que ceux obtenus avec la méthode SMOTE. L'idée ici est donc de combiner ces 2 methodes :\n",
    "\n",
    "Dans un premier temps, un Tomek pour retirer les éventuelles observations pouvant perturber l'apprentissage.\n",
    "\n",
    "Puis un SMOTE permettant, lors de l'apprentissage, de reconnaître la classe minoritaire"
   ]
  },
  {
   "cell_type": "code",
   "execution_count": 1,
   "metadata": {},
   "outputs": [],
   "source": [
    "from imblearn.under_sampling import TomekLinks \n",
    "tmk = TomekLinks()\n",
    "X_res, y_res = tmk.fit_sample(X_train, y_train)\n",
    "pd.Series(y_res).value_counts()"
   ]
  },
  {
   "cell_type": "code",
   "execution_count": 815,
   "metadata": {},
   "outputs": [],
   "source": [
    "#nombre d'observations retirees\n",
    "removed = [y_train.value_counts()[0]-pd.Series(y_res).value_counts()[0]]"
   ]
  },
  {
   "cell_type": "code",
   "execution_count": 816,
   "metadata": {},
   "outputs": [],
   "source": [
    "#On applique le Tomek 5 fois de plus\n",
    "#for k in range(5):\n",
    "#    bef = pd.Series(y_res).value_counts()[0]\n",
    "#    X_res, y_res = tmk.fit_sample(X_res, y_res)\n",
    "#    aft = pd.Series(y_res).value_counts()[0]\n",
    "#    removed = removed + [bef-aft]"
   ]
  },
  {
   "cell_type": "code",
   "execution_count": 817,
   "metadata": {
    "scrolled": true
   },
   "outputs": [
    {
     "name": "stdout",
     "output_type": "stream",
     "text": [
      "[1719]\n"
     ]
    }
   ],
   "source": [
    "print(removed) # apres la boucle commentee : [1838, 644, 178, 41, 11, 0]\n",
    "#empiriquement, on constate que le nombre d'observations retirees tend vers 0 a chaque nouvelle iteration du Tomek."
   ]
  },
  {
   "cell_type": "markdown",
   "metadata": {},
   "source": [
    "Nous avons constaté qu'appliquer plusieurs fois le Tomek diminuait les performances de classification (tests efféctués sur un jeu de données plus petit).\n",
    "\n",
    "De plus, en iterant 5 fois l'algorithme on retire tous les plus proches voisins (cf. le commentaire ci-dessus du tableau \"removed\")."
   ]
  },
  {
   "cell_type": "code",
   "execution_count": 818,
   "metadata": {},
   "outputs": [
    {
     "data": {
      "text/plain": [
       "0    1313390\n",
       "1     525356\n",
       "dtype: int64"
      ]
     },
     "execution_count": 818,
     "metadata": {},
     "output_type": "execute_result"
    }
   ],
   "source": [
    "#Over+Under-sampling\n",
    "sm2 = SMOTE(random_state=2, sampling_strategy= 0.4, n_jobs=-1)\n",
    "X_sam, y_sam = sm2.fit_sample(X_res, y_res.ravel())\n",
    "X_sam, y_sam = shuffle(X_sam, y_sam, random_state=2) #otherwise learning curves have no 1 in samples\n",
    "pd.Series(y_sam).value_counts()"
   ]
  },
  {
   "cell_type": "code",
   "execution_count": 819,
   "metadata": {},
   "outputs": [
    {
     "data": {
      "text/plain": [
       "RandomForestClassifier(criterion='entropy', n_estimators=300, n_jobs=-1,\n",
       "                       random_state=0)"
      ]
     },
     "execution_count": 819,
     "metadata": {},
     "output_type": "execute_result"
    }
   ],
   "source": [
    "best_rf2 = clone(best_rf)\n",
    "best_rf2.fit(X_sam, y_sam)"
   ]
  },
  {
   "cell_type": "code",
   "execution_count": 820,
   "metadata": {},
   "outputs": [],
   "source": [
    "pred_rf2 = best_rf2.predict(X_test)"
   ]
  },
  {
   "cell_type": "code",
   "execution_count": 821,
   "metadata": {},
   "outputs": [
    {
     "name": "stdout",
     "output_type": "stream",
     "text": [
      "[[262696    592]\n",
      " [   780     75]]\n",
      "              precision    recall  f1-score   support\n",
      "\n",
      "           0       1.00      1.00      1.00    263288\n",
      "           1       0.11      0.09      0.10       855\n",
      "\n",
      "    accuracy                           0.99    264143\n",
      "   macro avg       0.55      0.54      0.55    264143\n",
      "weighted avg       0.99      0.99      0.99    264143\n",
      "\n"
     ]
    }
   ],
   "source": [
    "#Un Tomek: on itere 1 fois l'algorithme pour retirer les plus proches voisins\n",
    "print(confusion_matrix(y_test, pred_rf2))\n",
    "print(classification_report(y_test, pred_rf2))\n",
    "#plusieurs Tomek (moins bon): en iterant 5 fois l'algorithme on retire tous les plus proches voisins."
   ]
  },
  {
   "cell_type": "code",
   "execution_count": 822,
   "metadata": {},
   "outputs": [
    {
     "name": "stdout",
     "output_type": "stream",
     "text": [
      "[[262682    606]\n",
      " [   779     76]]\n",
      "              precision    recall  f1-score   support\n",
      "\n",
      "           0       1.00      1.00      1.00    263288\n",
      "           1       0.11      0.09      0.10       855\n",
      "\n",
      "    accuracy                           0.99    264143\n",
      "   macro avg       0.55      0.54      0.55    264143\n",
      "weighted avg       0.99      0.99      0.99    264143\n",
      "\n"
     ]
    }
   ],
   "source": [
    "#Rappel: pour comparer\n",
    "print(confusion_matrix(y_test, pred_rf))\n",
    "print(classification_report(y_test, pred_rf))"
   ]
  },
  {
   "cell_type": "code",
   "execution_count": 823,
   "metadata": {},
   "outputs": [],
   "source": [
    "def eval_sam(model):\n",
    "    mod = clone(model)\n",
    "    mod.fit(X_sam, y_sam)\n",
    "    ypred = mod.predict(X_test)\n",
    "    \n",
    "    print(confusion_matrix(y_test, ypred))\n",
    "    print(classification_report(y_test, ypred))\n",
    "    return mod\n",
    "\n",
    "def eval_all(dict_of_models):\n",
    "    mod_clone = []\n",
    "    for name, model in dict_of_models.items():\n",
    "        print(name)\n",
    "        mod = eval_sam(model)\n",
    "        mod_clone += [mod]\n",
    "    return mod_clone"
   ]
  },
  {
   "cell_type": "code",
   "execution_count": null,
   "metadata": {},
   "outputs": [],
   "source": [
    "#mod_clone = eval_all(dict_of_models)"
   ]
  },
  {
   "cell_type": "code",
   "execution_count": null,
   "metadata": {},
   "outputs": [],
   "source": [
    "GradBoost2 = clone(boo)"
   ]
  },
  {
   "cell_type": "code",
   "execution_count": 826,
   "metadata": {},
   "outputs": [
    {
     "data": {
      "text/plain": [
       "Pipeline(steps=[('pipeline',\n",
       "                 Pipeline(steps=[('polynomialfeatures',\n",
       "                                  PolynomialFeatures(degree=1,\n",
       "                                                     include_bias=False)),\n",
       "                                 ('selectkbest', SelectKBest(k='all'))])),\n",
       "                ('standardscaler', StandardScaler()),\n",
       "                ('gradientboostingclassifier',\n",
       "                 GradientBoostingClassifier(n_estimators=400, random_state=0))])"
      ]
     },
     "execution_count": 826,
     "metadata": {},
     "output_type": "execute_result"
    }
   ],
   "source": [
    "GradBoost2.fit(X_sam, y_sam)"
   ]
  },
  {
   "cell_type": "code",
   "execution_count": 835,
   "metadata": {},
   "outputs": [],
   "source": [
    "predGrad2 = GradBoost2.predict(X_test)"
   ]
  },
  {
   "cell_type": "code",
   "execution_count": 836,
   "metadata": {},
   "outputs": [
    {
     "name": "stdout",
     "output_type": "stream",
     "text": [
      "[[261258   2030]\n",
      " [   706    149]]\n",
      "              precision    recall  f1-score   support\n",
      "\n",
      "           0       1.00      0.99      0.99    263288\n",
      "           1       0.07      0.17      0.10       855\n",
      "\n",
      "    accuracy                           0.99    264143\n",
      "   macro avg       0.53      0.58      0.55    264143\n",
      "weighted avg       0.99      0.99      0.99    264143\n",
      "\n"
     ]
    }
   ],
   "source": [
    "print(confusion_matrix(y_test, predGrad2))\n",
    "print(classification_report(y_test, predGrad2))"
   ]
  },
  {
   "cell_type": "markdown",
   "metadata": {},
   "source": [
    "### P/R curves \n",
    "Pour le gradient sur le nouveau jeu de données Under- puis Over-sampled"
   ]
  },
  {
   "cell_type": "code",
   "execution_count": 837,
   "metadata": {},
   "outputs": [],
   "source": [
    "precision, recall, threshold = precision_recall_curve(y_test, GradBoost2.decision_function(X_test))"
   ]
  },
  {
   "cell_type": "code",
   "execution_count": 838,
   "metadata": {},
   "outputs": [
    {
     "data": {
      "text/plain": [
       "<matplotlib.legend.Legend at 0x2945fe50a60>"
      ]
     },
     "execution_count": 838,
     "metadata": {},
     "output_type": "execute_result"
    },
    {
     "data": {
      "image/png": "[encoded data removed]",
      "text/plain": [
       "<Figure size 432x288 with 1 Axes>"
      ]
     },
     "metadata": {
      "needs_background": "light"
     },
     "output_type": "display_data"
    }
   ],
   "source": [
    "plt.plot(threshold, precision[:-1], label='precision')\n",
    "plt.plot(threshold, recall[:-1], label='recall')\n",
    "plt.legend()"
   ]
  },
  {
   "cell_type": "code",
   "execution_count": 839,
   "metadata": {},
   "outputs": [
    {
     "name": "stdout",
     "output_type": "stream",
     "text": [
      "0.126883425852498\n",
      "0.7084805457829286\n"
     ]
    }
   ],
   "source": [
    "seuil = find_threshold()\n",
    "print(seuil)\n",
    "y_pred_fin2 = model_final(GradBoost2, X_test, threshold=seuil)"
   ]
  },
  {
   "cell_type": "code",
   "execution_count": 840,
   "metadata": {
    "scrolled": false
   },
   "outputs": [
    {
     "name": "stdout",
     "output_type": "stream",
     "text": [
      "[[262962    326]\n",
      " [   775     80]]\n",
      "0.126883425852498\n",
      "              precision    recall  f1-score   support\n",
      "\n",
      "           0       1.00      1.00      1.00    263288\n",
      "           1       0.20      0.09      0.13       855\n",
      "\n",
      "    accuracy                           1.00    264143\n",
      "   macro avg       0.60      0.55      0.56    264143\n",
      "weighted avg       0.99      1.00      1.00    264143\n",
      "\n"
     ]
    }
   ],
   "source": [
    "mat = confusion_matrix(y_test, y_pred_fin2)\n",
    "print(mat)\n",
    "print(f1_score(y_test, y_pred_fin2))\n",
    "print(classification_report(y_test, y_pred_fin2))"
   ]
  },
  {
   "cell_type": "markdown",
   "metadata": {},
   "source": [
    "### Hard voting\n",
    "Pour les 2 modèles considérés sur l'ensemble d'apprentissage Under- puis Over-sampled"
   ]
  },
  {
   "cell_type": "code",
   "execution_count": 918,
   "metadata": {},
   "outputs": [
    {
     "name": "stdout",
     "output_type": "stream",
     "text": [
      "[[263223     65]\n",
      " [   806     49]]\n",
      "              precision    recall  f1-score   support\n",
      "\n",
      "           0       1.00      1.00      1.00    263288\n",
      "           1       0.43      0.06      0.10       855\n",
      "\n",
      "    accuracy                           1.00    264143\n",
      "   macro avg       0.71      0.53      0.55    264143\n",
      "weighted avg       1.00      1.00      1.00    264143\n",
      "\n"
     ]
    }
   ],
   "source": [
    "#Bagging, hard voting with predictions\n",
    "pred_comb2 = pd.Series((y_pred_fin2 + pred_rf2)//2)\n",
    "#pred_comb.value_counts()\n",
    "print(confusion_matrix(y_test, pred_comb2))\n",
    "print(classification_report(y_test, pred_comb2))"
   ]
  },
  {
   "cell_type": "markdown",
   "metadata": {},
   "source": [
    "## Soft voting strategy \n",
    "Parmi les 4 modèles.\n",
    "On a créé, avec le nouveau jeu de données Under- puis Over-sampled, 2 modèles.\n",
    "On cherche une combinaison de 3 modèles maximisant la F-mesure. Par tâtonnement, la voici"
   ]
  },
  {
   "cell_type": "code",
   "execution_count": 902,
   "metadata": {},
   "outputs": [],
   "source": [
    "proba2 = GradBoost2.predict_proba(X_test) + best_rf.predict_proba(X_test) + boo.predict_proba(X_test)"
   ]
  },
  {
   "cell_type": "code",
   "execution_count": 903,
   "metadata": {},
   "outputs": [
    {
     "data": {
      "text/plain": [
       "0    263409\n",
       "1       734\n",
       "dtype: int64"
      ]
     },
     "execution_count": 903,
     "metadata": {},
     "output_type": "execute_result"
    }
   ],
   "source": [
    "by_proba2 = proba_pred(proba2)\n",
    "pd.Series(by_proba2).value_counts()"
   ]
  },
  {
   "cell_type": "code",
   "execution_count": 904,
   "metadata": {},
   "outputs": [
    {
     "name": "stdout",
     "output_type": "stream",
     "text": [
      "[[262670    618]\n",
      " [   739    116]]\n",
      "f1: 0.14600377595972308\n",
      "              precision    recall  f1-score   support\n",
      "\n",
      "           0       1.00      1.00      1.00    263288\n",
      "           1       0.16      0.14      0.15       855\n",
      "\n",
      "    accuracy                           0.99    264143\n",
      "   macro avg       0.58      0.57      0.57    264143\n",
      "weighted avg       0.99      0.99      0.99    264143\n",
      "\n"
     ]
    }
   ],
   "source": [
    "print(confusion_matrix(y_test, by_proba2))\n",
    "print(\"f1:\", f1_score(y_test, by_proba2))\n",
    "print(classification_report(y_test, by_proba2))"
   ]
  },
  {
   "cell_type": "markdown",
   "metadata": {},
   "source": [
    "---\n",
    "## Approximation d'un noyau radial\n",
    "Enfin, nous avons essayé d'utiliser une méthode d'approximation de noyau, mais cette dernière n'est pas concluante"
   ]
  },
  {
   "cell_type": "code",
   "execution_count": 845,
   "metadata": {},
   "outputs": [
    {
     "data": {
      "text/plain": [
       "SGDClassifier(max_iter=50)"
      ]
     },
     "execution_count": 845,
     "metadata": {},
     "output_type": "execute_result"
    }
   ],
   "source": [
    "from sklearn.kernel_approximation import RBFSampler\n",
    "from sklearn.linear_model import SGDClassifier\n",
    "rbf_feature = RBFSampler(gamma=1, n_components = 30, random_state=1)\n",
    "tmp = pd.concat([X_train_res, X_test])\n",
    "X_features = rbf_feature.fit_transform(tmp)\n",
    "X_feat, X_rbf = X_features[0:len(X_train_res)], X_features[len(X_train_res):len(X_features)]\n",
    "SGD = SGDClassifier(max_iter=50)\n",
    "SGD.fit(X_feat, y_train_res)"
   ]
  },
  {
   "cell_type": "code",
   "execution_count": 846,
   "metadata": {},
   "outputs": [],
   "source": [
    "predSGD = SGD.predict(X_rbf)"
   ]
  },
  {
   "cell_type": "code",
   "execution_count": 847,
   "metadata": {},
   "outputs": [
    {
     "name": "stdout",
     "output_type": "stream",
     "text": [
      "[[263288      0]\n",
      " [   855      0]]\n"
     ]
    },
    {
     "name": "stderr",
     "output_type": "stream",
     "text": [
      "C:\\Users\\rdecoster\\Anaconda3\\lib\\site-packages\\sklearn\\metrics\\_classification.py:1221: UndefinedMetricWarning: Precision and F-score are ill-defined and being set to 0.0 in labels with no predicted samples. Use `zero_division` parameter to control this behavior.\n",
      "  _warn_prf(average, modifier, msg_start, len(result))\n"
     ]
    },
    {
     "name": "stdout",
     "output_type": "stream",
     "text": [
      "              precision    recall  f1-score   support\n",
      "\n",
      "           0       1.00      1.00      1.00    263288\n",
      "           1       0.00      0.00      0.00       855\n",
      "\n",
      "    accuracy                           1.00    264143\n",
      "   macro avg       0.50      0.50      0.50    264143\n",
      "weighted avg       0.99      1.00      1.00    264143\n",
      "\n"
     ]
    }
   ],
   "source": [
    "#Approximation d'un noyau radial par RBFSampler. \n",
    "#Avec un SGDClassifer, donne de mauvais resultat.\n",
    "print(confusion_matrix(y_test,predSGD))\n",
    "print(classification_report(y_test,predSGD))"
   ]
  },
  {
   "cell_type": "code",
   "execution_count": null,
   "metadata": {},
   "outputs": [],
   "source": []
  },
  {
   "cell_type": "markdown",
   "metadata": {},
   "source": [
    "# Bonus\n",
    "On mesure le chiffre d'affaire généré. On reprend la définition issue du sujet."
   ]
  },
  {
   "cell_type": "code",
   "execution_count": 134,
   "metadata": {},
   "outputs": [],
   "source": [
    "from math import exp\n",
    "def cost(m):\n",
    "    return m*(1-exp(-m))\n",
    "\n",
    "def CA(X_test, y_test, pred):\n",
    "    res=0\n",
    "    Montant = X_test['MontAnt']\n",
    "    for m in range(len(Montant)):\n",
    "        if(y_test[m]==0 and pred[m]==0): #TN\n",
    "            res+=Montant[m]\n",
    "        elif(y_test[m]==1 and pred[m]==0): #FN\n",
    "            res-=cost(Montant[m])\n",
    "        elif(y_test[m]==0 and pred[m]==1): #FP\n",
    "            res+=0.8*Montant[m]\n",
    "    print(res)\n",
    "    return res"
   ]
  },
  {
   "cell_type": "code",
   "execution_count": 153,
   "metadata": {},
   "outputs": [
    {
     "name": "stdout",
     "output_type": "stream",
     "text": [
      "15355812.29884943\n",
      "15355812.29884943\n"
     ]
    }
   ],
   "source": [
    "#Naivement, on accepte toutes les transactions\n",
    "res_naif = CA(X_test,y_test, [0]*len(y_test))\n",
    "print(res_naif)"
   ]
  },
  {
   "cell_type": "code",
   "execution_count": 920,
   "metadata": {},
   "outputs": [],
   "source": [
    "#res = []\n",
    "#for i in range(1,20):\n",
    "#    res = res + [cost(i)]\n",
    "#print(res)\n",
    "#plt.plot(res)\n",
    "def benef():\n",
    "    res = 0\n",
    "    name = ''\n",
    "    Prediction = [pred_rf, pred_rf2, y_pred_fin, y_pred_fin2, pred_comb, pred_comb2, by_proba, by_proba2]\n",
    "    Names = ['RandomForest', 'RandomForest avec un Tomek', \n",
    "             'GradientBoosting dont le seuil est redéfini' , \"GradientBoosting avec un Tomek dont le seuil est redéfini\",\n",
    "             'Hard Voting de RdmForest et GradBoost', 'Hard Voting de RdmForest et GradBoost avec un Tomek'\n",
    "             'Soft Voting de RdmForest et GradBoost', 'Soft Voting de RdmForest et GradBoost avec un Tomek']\n",
    "    for i in range(len(Names)):\n",
    "        print(Names[i])\n",
    "        tmp = CA(X_test,y_test, Prediction[i])\n",
    "        if tmp > res:\n",
    "            res = tmp\n",
    "            name = Names[i]\n",
    "    print(\"Le meilleur modele est :\", name)\n",
    "    return res\n",
    "#res = CA(X_test,y_test, pred_rf2)"
   ]
  },
  {
   "cell_type": "code",
   "execution_count": 867,
   "metadata": {},
   "outputs": [
    {
     "name": "stdout",
     "output_type": "stream",
     "text": [
      "15355453.984849406\n",
      "15355649.642849412\n",
      "15359938.608849425\n",
      "15359258.240849208\n",
      "15361622.994849429\n",
      "15356688.048849413\n",
      "15357277.58284941\n",
      "Le meilleur modele est : Hard Voting de RdmForest et GradBoost\n",
      "15361622.994849429\n"
     ]
    }
   ],
   "source": [
    "res = benef()\n",
    "print(res)"
   ]
  },
  {
   "cell_type": "code",
   "execution_count": 868,
   "metadata": {},
   "outputs": [
    {
     "name": "stdout",
     "output_type": "stream",
     "text": [
      "Appliquer l'algorithme engendre du benefice. Le gain est de : 5810.7 euros.\n"
     ]
    }
   ],
   "source": [
    "if res > res_naif:\n",
    "    print(\"Appliquer l'algorithme engendre du benefice. Le gain est de : {} euros.\".format(round(res-res_naif, 2)))\n",
    "else :\n",
    "    print(\"Appliquer l'algorithme fait perdre du benefice. La perte est de {} euros.\".format(round(res-res_naif, 2)))"
   ]
  },
  {
   "cell_type": "code",
   "execution_count": 919,
   "metadata": {},
   "outputs": [
    {
     "name": "stdout",
     "output_type": "stream",
     "text": [
      "15360821.536849432\n"
     ]
    }
   ],
   "source": [
    "#res = CA(X_test,y_test, pred_comb2)"
   ]
  },
  {
   "cell_type": "markdown",
   "metadata": {},
   "source": [
    "# Conclusion\n",
    "Parmis tous les algorithmes de machine learning que nous avons essayé, le modèle ayant la meilleure F-mesure est le GradientBoosting dont on a redéfini le seul:"
   ]
  },
  {
   "cell_type": "code",
   "execution_count": 878,
   "metadata": {},
   "outputs": [
    {
     "name": "stdout",
     "output_type": "stream",
     "text": [
      "F-mesure :  0.13225806451612904\n"
     ]
    }
   ],
   "source": [
    "print(\"F-mesure : \",f1_score(y_test, y_pred_fin))"
   ]
  },
  {
   "cell_type": "markdown",
   "metadata": {},
   "source": [
    "Mais en rassemblant les predictions des probabilités d'appartenance à une classe du RandomForest (sans Tomek) et des 2 GradientBoosting (avec et sans Tomek), on obtient un meilleur résultat pour la F-mesure :"
   ]
  },
  {
   "cell_type": "code",
   "execution_count": 906,
   "metadata": {},
   "outputs": [
    {
     "name": "stdout",
     "output_type": "stream",
     "text": [
      "F-mesure :  0.14600377595972308\n"
     ]
    }
   ],
   "source": [
    "print(\"F-mesure : \",f1_score(y_test, by_proba2))"
   ]
  },
  {
   "cell_type": "markdown",
   "metadata": {},
   "source": [
    "Enfin, pour maximiser le bénéfice de l'entreprise, c'est la stratégie de Hard Voting sans Tomek qui est plus performante. En effet, bien que son recall soit inférieur à la stratégie ci-dessus, sa précision est bien meilleure. Le gain sur le mois est de :"
   ]
  },
  {
   "cell_type": "code",
   "execution_count": 926,
   "metadata": {},
   "outputs": [
    {
     "name": "stdout",
     "output_type": "stream",
     "text": [
      "5810.7 euros\n"
     ]
    }
   ],
   "source": [
    "print(round(res-res_naif, 2), \"euros\")"
   ]
  },
  {
   "cell_type": "code",
   "execution_count": 4,
   "metadata": {},
   "outputs": [
    {
     "name": "stdout",
     "output_type": "stream",
     "text": [
      "Implemented by Remi Decoster with the help of Antoine Baudere\n"
     ]
    }
   ],
   "source": [
    "print(\"Implemented by {} with the help of {}\".format(author, collaborators))"
   ]
  },
  {
   "cell_type": "code",
   "execution_count": null,
   "metadata": {},
   "outputs": [],
   "source": []
  }
 ],
 "metadata": {
  "kernelspec": {
   "display_name": "Python 3",
   "language": "python",
   "name": "python3"
  },
  "language_info": {
   "codemirror_mode": {
    "name": "ipython",
    "version": 3
   },
   "file_extension": ".py",
   "mimetype": "text/x-python",
   "name": "python",
   "nbconvert_exporter": "python",
   "pygments_lexer": "ipython3",
   "version": "3.8.3"
  }
 },
 "nbformat": 4,
 "nbformat_minor": 4
}
